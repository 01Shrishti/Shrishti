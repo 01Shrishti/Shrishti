{
 "cells": [
  {
   "cell_type": "markdown",
   "id": "dcc19116",
   "metadata": {},
   "source": [
    "# EXL Case Study - Term Deposit Subscription\n",
    "\n",
    "## SS Warriors"
   ]
  },
  {
   "cell_type": "markdown",
   "id": "2bccd288",
   "metadata": {},
   "source": [
    "## 1. Importing Packages and Data Sets"
   ]
  },
  {
   "cell_type": "code",
   "execution_count": 1,
   "id": "9f4750ce",
   "metadata": {},
   "outputs": [],
   "source": [
    "import pandas as pd\n",
    "import numpy as np\n",
    "import matplotlib.pyplot as plt\n",
    "import seaborn as sns\n",
    "%matplotlib inline"
   ]
  },
  {
   "cell_type": "code",
   "execution_count": 2,
   "id": "cdf94687",
   "metadata": {},
   "outputs": [],
   "source": [
    "train=pd.read_excel('Worksheet in EXL_EQ_CaSE_Term_Deposit_Lead_Prediction_Final_Draft_PD_V01.xlsx')\n",
    "test=pd.read_excel('Worksheet in EXL_EQ_CaSE_Term_Deposit_Lead_Prediction_Final_Draft_PD_V01 2.xlsx')"
   ]
  },
  {
   "cell_type": "markdown",
   "id": "84d9884b",
   "metadata": {},
   "source": [
    "## 2. Understanding the data set"
   ]
  },
  {
   "cell_type": "code",
   "execution_count": 3,
   "id": "16e71e82",
   "metadata": {},
   "outputs": [
    {
     "data": {
      "text/html": [
       "<div>\n",
       "<style scoped>\n",
       "    .dataframe tbody tr th:only-of-type {\n",
       "        vertical-align: middle;\n",
       "    }\n",
       "\n",
       "    .dataframe tbody tr th {\n",
       "        vertical-align: top;\n",
       "    }\n",
       "\n",
       "    .dataframe thead th {\n",
       "        text-align: right;\n",
       "    }\n",
       "</style>\n",
       "<table border=\"1\" class=\"dataframe\">\n",
       "  <thead>\n",
       "    <tr style=\"text-align: right;\">\n",
       "      <th></th>\n",
       "      <th>customer_id</th>\n",
       "      <th>customer_age</th>\n",
       "      <th>job_type</th>\n",
       "      <th>marital</th>\n",
       "      <th>education</th>\n",
       "      <th>default</th>\n",
       "      <th>balance</th>\n",
       "      <th>housing_loan</th>\n",
       "      <th>personal_loan</th>\n",
       "      <th>communication_type</th>\n",
       "      <th>day_of_month</th>\n",
       "      <th>month</th>\n",
       "      <th>last_contact_duration</th>\n",
       "      <th>num_contacts_in_campaign</th>\n",
       "      <th>num_contacts_prev_campaign</th>\n",
       "      <th>prev_campaign_outcome</th>\n",
       "      <th>term_deposit_subscribed</th>\n",
       "    </tr>\n",
       "  </thead>\n",
       "  <tbody>\n",
       "    <tr>\n",
       "      <th>0</th>\n",
       "      <td>id_32289</td>\n",
       "      <td>34.0</td>\n",
       "      <td>blue-collar</td>\n",
       "      <td>married</td>\n",
       "      <td>secondary</td>\n",
       "      <td>no</td>\n",
       "      <td>934.0</td>\n",
       "      <td>no</td>\n",
       "      <td>yes</td>\n",
       "      <td>cellular</td>\n",
       "      <td>18</td>\n",
       "      <td>nov</td>\n",
       "      <td>704</td>\n",
       "      <td>2.0</td>\n",
       "      <td>1</td>\n",
       "      <td>other</td>\n",
       "      <td>0</td>\n",
       "    </tr>\n",
       "    <tr>\n",
       "      <th>1</th>\n",
       "      <td>id_40992</td>\n",
       "      <td>41.0</td>\n",
       "      <td>blue-collar</td>\n",
       "      <td>married</td>\n",
       "      <td>primary</td>\n",
       "      <td>no</td>\n",
       "      <td>1352.0</td>\n",
       "      <td>yes</td>\n",
       "      <td>no</td>\n",
       "      <td>cellular</td>\n",
       "      <td>13</td>\n",
       "      <td>may</td>\n",
       "      <td>893</td>\n",
       "      <td>2.0</td>\n",
       "      <td>0</td>\n",
       "      <td>unknown</td>\n",
       "      <td>0</td>\n",
       "    </tr>\n",
       "    <tr>\n",
       "      <th>2</th>\n",
       "      <td>id_41178</td>\n",
       "      <td>57.0</td>\n",
       "      <td>blue-collar</td>\n",
       "      <td>married</td>\n",
       "      <td>primary</td>\n",
       "      <td>no</td>\n",
       "      <td>495.0</td>\n",
       "      <td>no</td>\n",
       "      <td>no</td>\n",
       "      <td>cellular</td>\n",
       "      <td>18</td>\n",
       "      <td>aug</td>\n",
       "      <td>796</td>\n",
       "      <td>4.0</td>\n",
       "      <td>0</td>\n",
       "      <td>unknown</td>\n",
       "      <td>1</td>\n",
       "    </tr>\n",
       "    <tr>\n",
       "      <th>3</th>\n",
       "      <td>id_35102</td>\n",
       "      <td>37.0</td>\n",
       "      <td>management</td>\n",
       "      <td>married</td>\n",
       "      <td>tertiary</td>\n",
       "      <td>no</td>\n",
       "      <td>650.0</td>\n",
       "      <td>yes</td>\n",
       "      <td>NaN</td>\n",
       "      <td>unknown</td>\n",
       "      <td>26</td>\n",
       "      <td>may</td>\n",
       "      <td>880</td>\n",
       "      <td>1.0</td>\n",
       "      <td>0</td>\n",
       "      <td>unknown</td>\n",
       "      <td>0</td>\n",
       "    </tr>\n",
       "    <tr>\n",
       "      <th>4</th>\n",
       "      <td>id_34750</td>\n",
       "      <td>29.0</td>\n",
       "      <td>technician</td>\n",
       "      <td>married</td>\n",
       "      <td>secondary</td>\n",
       "      <td>no</td>\n",
       "      <td>265.0</td>\n",
       "      <td>yes</td>\n",
       "      <td>no</td>\n",
       "      <td>cellular</td>\n",
       "      <td>19</td>\n",
       "      <td>aug</td>\n",
       "      <td>795</td>\n",
       "      <td>2.0</td>\n",
       "      <td>0</td>\n",
       "      <td>unknown</td>\n",
       "      <td>0</td>\n",
       "    </tr>\n",
       "  </tbody>\n",
       "</table>\n",
       "</div>"
      ],
      "text/plain": [
       "  customer_id  customer_age     job_type  marital  education default  balance  \\\n",
       "0    id_32289          34.0  blue-collar  married  secondary      no    934.0   \n",
       "1    id_40992          41.0  blue-collar  married    primary      no   1352.0   \n",
       "2    id_41178          57.0  blue-collar  married    primary      no    495.0   \n",
       "3    id_35102          37.0   management  married   tertiary      no    650.0   \n",
       "4    id_34750          29.0   technician  married  secondary      no    265.0   \n",
       "\n",
       "  housing_loan personal_loan communication_type  day_of_month month  \\\n",
       "0           no           yes           cellular            18   nov   \n",
       "1          yes            no           cellular            13   may   \n",
       "2           no            no           cellular            18   aug   \n",
       "3          yes           NaN            unknown            26   may   \n",
       "4          yes            no           cellular            19   aug   \n",
       "\n",
       "   last_contact_duration  num_contacts_in_campaign  \\\n",
       "0                    704                       2.0   \n",
       "1                    893                       2.0   \n",
       "2                    796                       4.0   \n",
       "3                    880                       1.0   \n",
       "4                    795                       2.0   \n",
       "\n",
       "   num_contacts_prev_campaign prev_campaign_outcome  term_deposit_subscribed  \n",
       "0                           1                 other                        0  \n",
       "1                           0               unknown                        0  \n",
       "2                           0               unknown                        1  \n",
       "3                           0               unknown                        0  \n",
       "4                           0               unknown                        0  "
      ]
     },
     "execution_count": 3,
     "metadata": {},
     "output_type": "execute_result"
    }
   ],
   "source": [
    "train.head()"
   ]
  },
  {
   "cell_type": "code",
   "execution_count": 4,
   "id": "399dd1ad",
   "metadata": {},
   "outputs": [
    {
     "data": {
      "text/html": [
       "<div>\n",
       "<style scoped>\n",
       "    .dataframe tbody tr th:only-of-type {\n",
       "        vertical-align: middle;\n",
       "    }\n",
       "\n",
       "    .dataframe tbody tr th {\n",
       "        vertical-align: top;\n",
       "    }\n",
       "\n",
       "    .dataframe thead th {\n",
       "        text-align: right;\n",
       "    }\n",
       "</style>\n",
       "<table border=\"1\" class=\"dataframe\">\n",
       "  <thead>\n",
       "    <tr style=\"text-align: right;\">\n",
       "      <th></th>\n",
       "      <th>customer_id</th>\n",
       "      <th>customer_age</th>\n",
       "      <th>job_type</th>\n",
       "      <th>marital</th>\n",
       "      <th>education</th>\n",
       "      <th>default</th>\n",
       "      <th>balance</th>\n",
       "      <th>housing_loan</th>\n",
       "      <th>personal_loan</th>\n",
       "      <th>communication_type</th>\n",
       "      <th>last_contact_duration</th>\n",
       "      <th>day_of_month</th>\n",
       "      <th>month</th>\n",
       "      <th>num_contacts_in_campaign</th>\n",
       "      <th>num_contacts_prev_campaign</th>\n",
       "      <th>prev_campaign_outcome</th>\n",
       "    </tr>\n",
       "  </thead>\n",
       "  <tbody>\n",
       "    <tr>\n",
       "      <th>0</th>\n",
       "      <td>id_43823</td>\n",
       "      <td>28.0</td>\n",
       "      <td>management</td>\n",
       "      <td>single</td>\n",
       "      <td>tertiary</td>\n",
       "      <td>no</td>\n",
       "      <td>285.0</td>\n",
       "      <td>yes</td>\n",
       "      <td>no</td>\n",
       "      <td>unknown</td>\n",
       "      <td>849</td>\n",
       "      <td>26</td>\n",
       "      <td>jun</td>\n",
       "      <td>4.0</td>\n",
       "      <td>0</td>\n",
       "      <td>unknown</td>\n",
       "    </tr>\n",
       "    <tr>\n",
       "      <th>1</th>\n",
       "      <td>id_10523</td>\n",
       "      <td>46.0</td>\n",
       "      <td>technician</td>\n",
       "      <td>married</td>\n",
       "      <td>secondary</td>\n",
       "      <td>no</td>\n",
       "      <td>656.0</td>\n",
       "      <td>no</td>\n",
       "      <td>no</td>\n",
       "      <td>cellular</td>\n",
       "      <td>990</td>\n",
       "      <td>5</td>\n",
       "      <td>feb</td>\n",
       "      <td>4.0</td>\n",
       "      <td>0</td>\n",
       "      <td>unknown</td>\n",
       "    </tr>\n",
       "    <tr>\n",
       "      <th>2</th>\n",
       "      <td>id_43951</td>\n",
       "      <td>34.0</td>\n",
       "      <td>services</td>\n",
       "      <td>single</td>\n",
       "      <td>secondary</td>\n",
       "      <td>no</td>\n",
       "      <td>2.0</td>\n",
       "      <td>yes</td>\n",
       "      <td>no</td>\n",
       "      <td>unknown</td>\n",
       "      <td>886</td>\n",
       "      <td>20</td>\n",
       "      <td>may</td>\n",
       "      <td>3.0</td>\n",
       "      <td>0</td>\n",
       "      <td>unknown</td>\n",
       "    </tr>\n",
       "    <tr>\n",
       "      <th>3</th>\n",
       "      <td>id_12681</td>\n",
       "      <td>65.0</td>\n",
       "      <td>retired</td>\n",
       "      <td>married</td>\n",
       "      <td>primary</td>\n",
       "      <td>no</td>\n",
       "      <td>2880.0</td>\n",
       "      <td>no</td>\n",
       "      <td>no</td>\n",
       "      <td>cellular</td>\n",
       "      <td>913</td>\n",
       "      <td>23</td>\n",
       "      <td>apr</td>\n",
       "      <td>1.0</td>\n",
       "      <td>0</td>\n",
       "      <td>unknown</td>\n",
       "    </tr>\n",
       "    <tr>\n",
       "      <th>4</th>\n",
       "      <td>id_2153</td>\n",
       "      <td>52.0</td>\n",
       "      <td>blue-collar</td>\n",
       "      <td>married</td>\n",
       "      <td>tertiary</td>\n",
       "      <td>no</td>\n",
       "      <td>1779.0</td>\n",
       "      <td>no</td>\n",
       "      <td>no</td>\n",
       "      <td>cellular</td>\n",
       "      <td>703</td>\n",
       "      <td>19</td>\n",
       "      <td>nov</td>\n",
       "      <td>3.0</td>\n",
       "      <td>1</td>\n",
       "      <td>failure</td>\n",
       "    </tr>\n",
       "  </tbody>\n",
       "</table>\n",
       "</div>"
      ],
      "text/plain": [
       "  customer_id  customer_age     job_type  marital  education default  balance  \\\n",
       "0    id_43823          28.0   management   single   tertiary      no    285.0   \n",
       "1    id_10523          46.0   technician  married  secondary      no    656.0   \n",
       "2    id_43951          34.0     services   single  secondary      no      2.0   \n",
       "3    id_12681          65.0      retired  married    primary      no   2880.0   \n",
       "4     id_2153          52.0  blue-collar  married   tertiary      no   1779.0   \n",
       "\n",
       "  housing_loan personal_loan communication_type  last_contact_duration  \\\n",
       "0          yes            no            unknown                    849   \n",
       "1           no            no           cellular                    990   \n",
       "2          yes            no            unknown                    886   \n",
       "3           no            no           cellular                    913   \n",
       "4           no            no           cellular                    703   \n",
       "\n",
       "   day_of_month month  num_contacts_in_campaign  num_contacts_prev_campaign  \\\n",
       "0            26   jun                       4.0                           0   \n",
       "1             5   feb                       4.0                           0   \n",
       "2            20   may                       3.0                           0   \n",
       "3            23   apr                       1.0                           0   \n",
       "4            19   nov                       3.0                           1   \n",
       "\n",
       "  prev_campaign_outcome  \n",
       "0               unknown  \n",
       "1               unknown  \n",
       "2               unknown  \n",
       "3               unknown  \n",
       "4               failure  "
      ]
     },
     "execution_count": 4,
     "metadata": {},
     "output_type": "execute_result"
    }
   ],
   "source": [
    "test.head()"
   ]
  },
  {
   "cell_type": "code",
   "execution_count": 5,
   "id": "e939f2b0",
   "metadata": {},
   "outputs": [
    {
     "name": "stdout",
     "output_type": "stream",
     "text": [
      "<class 'pandas.core.frame.DataFrame'>\n",
      "RangeIndex: 23880 entries, 0 to 23879\n",
      "Data columns (total 17 columns):\n",
      " #   Column                      Non-Null Count  Dtype  \n",
      "---  ------                      --------------  -----  \n",
      " 0   customer_id                 23880 non-null  object \n",
      " 1   customer_age                23403 non-null  float64\n",
      " 2   job_type                    23880 non-null  object \n",
      " 3   marital                     23773 non-null  object \n",
      " 4   education                   23880 non-null  object \n",
      " 5   default                     23880 non-null  object \n",
      " 6   balance                     23603 non-null  float64\n",
      " 7   housing_loan                23880 non-null  object \n",
      " 8   personal_loan               23767 non-null  object \n",
      " 9   communication_type          23880 non-null  object \n",
      " 10  day_of_month                23880 non-null  int64  \n",
      " 11  month                       23880 non-null  object \n",
      " 12  last_contact_duration       23880 non-null  int64  \n",
      " 13  num_contacts_in_campaign    23784 non-null  float64\n",
      " 14  num_contacts_prev_campaign  23880 non-null  int64  \n",
      " 15  prev_campaign_outcome       23880 non-null  object \n",
      " 16  term_deposit_subscribed     23880 non-null  int64  \n",
      "dtypes: float64(3), int64(4), object(10)\n",
      "memory usage: 3.1+ MB\n"
     ]
    }
   ],
   "source": [
    "train.info()"
   ]
  },
  {
   "cell_type": "code",
   "execution_count": 6,
   "id": "30658975",
   "metadata": {},
   "outputs": [
    {
     "name": "stdout",
     "output_type": "stream",
     "text": [
      "customer_id\n",
      "['id_43823' 'id_10523' 'id_43951' ... 'id_16678' 'id_26369' 'id_31483']\n",
      "job_type\n",
      "['management' 'technician' 'services' 'retired' 'blue-collar' 'admin.'\n",
      " 'self-employed' 'housemaid' 'entrepreneur' 'unemployed' 'student'\n",
      " 'unknown']\n",
      "marital\n",
      "['single' 'married' 'divorced' nan]\n",
      "education\n",
      "['tertiary' 'secondary' 'primary' 'unknown']\n",
      "default\n",
      "['no' 'yes']\n",
      "housing_loan\n",
      "['yes' 'no']\n",
      "personal_loan\n",
      "['no' 'yes' nan]\n",
      "communication_type\n",
      "['unknown' 'cellular' 'telephone']\n",
      "month\n",
      "['jun' 'feb' 'may' 'apr' 'nov' 'aug' 'oct' 'jul' 'jan' 'dec' 'mar' 'sep']\n",
      "prev_campaign_outcome\n",
      "['unknown' 'failure' 'other' 'success']\n"
     ]
    }
   ],
   "source": [
    "for col in test.select_dtypes(include='object').columns:\n",
    "    print (col)\n",
    "    print(test[col].unique())"
   ]
  },
  {
   "cell_type": "code",
   "execution_count": 7,
   "id": "50b85dc0",
   "metadata": {},
   "outputs": [
    {
     "name": "stdout",
     "output_type": "stream",
     "text": [
      "customer_id\n",
      "['id_32289' 'id_40992' 'id_41178' ... 'id_44679' 'id_4841' 'id_1723']\n",
      "job_type\n",
      "['blue-collar' 'management' 'technician' 'services' 'retired'\n",
      " 'entrepreneur' 'admin.' 'student' 'housemaid' 'self-employed' 'unknown'\n",
      " 'unemployed']\n",
      "marital\n",
      "['married' 'single' 'divorced' nan]\n",
      "education\n",
      "['secondary' 'primary' 'tertiary' 'unknown']\n",
      "default\n",
      "['no' 'yes']\n",
      "housing_loan\n",
      "['no' 'yes']\n",
      "personal_loan\n",
      "['yes' 'no' nan]\n",
      "communication_type\n",
      "['cellular' 'unknown' 'telephone']\n",
      "month\n",
      "['nov' 'may' 'aug' 'apr' 'feb' 'jun' 'jul' 'jan' 'oct' 'sep' 'mar' 'dec']\n",
      "prev_campaign_outcome\n",
      "['other' 'unknown' 'failure' 'success']\n"
     ]
    }
   ],
   "source": [
    "for col in train.select_dtypes(include='object').columns:\n",
    "    print (col)\n",
    "    print(train[col].unique())"
   ]
  },
  {
   "cell_type": "code",
   "execution_count": 8,
   "id": "3a650ac9",
   "metadata": {},
   "outputs": [
    {
     "data": {
      "text/html": [
       "<div>\n",
       "<style scoped>\n",
       "    .dataframe tbody tr th:only-of-type {\n",
       "        vertical-align: middle;\n",
       "    }\n",
       "\n",
       "    .dataframe tbody tr th {\n",
       "        vertical-align: top;\n",
       "    }\n",
       "\n",
       "    .dataframe thead th {\n",
       "        text-align: right;\n",
       "    }\n",
       "</style>\n",
       "<table border=\"1\" class=\"dataframe\">\n",
       "  <thead>\n",
       "    <tr style=\"text-align: right;\">\n",
       "      <th></th>\n",
       "      <th>customer_age</th>\n",
       "      <th>balance</th>\n",
       "      <th>day_of_month</th>\n",
       "      <th>last_contact_duration</th>\n",
       "      <th>num_contacts_in_campaign</th>\n",
       "      <th>num_contacts_prev_campaign</th>\n",
       "      <th>term_deposit_subscribed</th>\n",
       "    </tr>\n",
       "  </thead>\n",
       "  <tbody>\n",
       "    <tr>\n",
       "      <th>count</th>\n",
       "      <td>23403.000000</td>\n",
       "      <td>23603.000000</td>\n",
       "      <td>23880.000000</td>\n",
       "      <td>23880.000000</td>\n",
       "      <td>23784.000000</td>\n",
       "      <td>23880.000000</td>\n",
       "      <td>23880.000000</td>\n",
       "    </tr>\n",
       "    <tr>\n",
       "      <th>mean</th>\n",
       "      <td>40.394821</td>\n",
       "      <td>1363.966106</td>\n",
       "      <td>15.796315</td>\n",
       "      <td>854.879648</td>\n",
       "      <td>2.775353</td>\n",
       "      <td>0.583836</td>\n",
       "      <td>0.106198</td>\n",
       "    </tr>\n",
       "    <tr>\n",
       "      <th>std</th>\n",
       "      <td>10.753045</td>\n",
       "      <td>3019.583085</td>\n",
       "      <td>8.321136</td>\n",
       "      <td>74.537616</td>\n",
       "      <td>3.148117</td>\n",
       "      <td>2.624465</td>\n",
       "      <td>0.308097</td>\n",
       "    </tr>\n",
       "    <tr>\n",
       "      <th>min</th>\n",
       "      <td>18.000000</td>\n",
       "      <td>-8020.000000</td>\n",
       "      <td>1.000000</td>\n",
       "      <td>661.000000</td>\n",
       "      <td>1.000000</td>\n",
       "      <td>0.000000</td>\n",
       "      <td>0.000000</td>\n",
       "    </tr>\n",
       "    <tr>\n",
       "      <th>25%</th>\n",
       "      <td>32.000000</td>\n",
       "      <td>71.000000</td>\n",
       "      <td>8.000000</td>\n",
       "      <td>809.000000</td>\n",
       "      <td>1.000000</td>\n",
       "      <td>0.000000</td>\n",
       "      <td>0.000000</td>\n",
       "    </tr>\n",
       "    <tr>\n",
       "      <th>50%</th>\n",
       "      <td>38.000000</td>\n",
       "      <td>443.000000</td>\n",
       "      <td>16.000000</td>\n",
       "      <td>871.000000</td>\n",
       "      <td>2.000000</td>\n",
       "      <td>0.000000</td>\n",
       "      <td>0.000000</td>\n",
       "    </tr>\n",
       "    <tr>\n",
       "      <th>75%</th>\n",
       "      <td>48.000000</td>\n",
       "      <td>1410.500000</td>\n",
       "      <td>21.000000</td>\n",
       "      <td>897.000000</td>\n",
       "      <td>3.000000</td>\n",
       "      <td>0.000000</td>\n",
       "      <td>0.000000</td>\n",
       "    </tr>\n",
       "    <tr>\n",
       "      <th>max</th>\n",
       "      <td>93.000000</td>\n",
       "      <td>98419.000000</td>\n",
       "      <td>31.000000</td>\n",
       "      <td>1019.000000</td>\n",
       "      <td>63.000000</td>\n",
       "      <td>275.000000</td>\n",
       "      <td>1.000000</td>\n",
       "    </tr>\n",
       "  </tbody>\n",
       "</table>\n",
       "</div>"
      ],
      "text/plain": [
       "       customer_age       balance  day_of_month  last_contact_duration  \\\n",
       "count  23403.000000  23603.000000  23880.000000           23880.000000   \n",
       "mean      40.394821   1363.966106     15.796315             854.879648   \n",
       "std       10.753045   3019.583085      8.321136              74.537616   \n",
       "min       18.000000  -8020.000000      1.000000             661.000000   \n",
       "25%       32.000000     71.000000      8.000000             809.000000   \n",
       "50%       38.000000    443.000000     16.000000             871.000000   \n",
       "75%       48.000000   1410.500000     21.000000             897.000000   \n",
       "max       93.000000  98419.000000     31.000000            1019.000000   \n",
       "\n",
       "       num_contacts_in_campaign  num_contacts_prev_campaign  \\\n",
       "count              23784.000000                23880.000000   \n",
       "mean                   2.775353                    0.583836   \n",
       "std                    3.148117                    2.624465   \n",
       "min                    1.000000                    0.000000   \n",
       "25%                    1.000000                    0.000000   \n",
       "50%                    2.000000                    0.000000   \n",
       "75%                    3.000000                    0.000000   \n",
       "max                   63.000000                  275.000000   \n",
       "\n",
       "       term_deposit_subscribed  \n",
       "count             23880.000000  \n",
       "mean                  0.106198  \n",
       "std                   0.308097  \n",
       "min                   0.000000  \n",
       "25%                   0.000000  \n",
       "50%                   0.000000  \n",
       "75%                   0.000000  \n",
       "max                   1.000000  "
      ]
     },
     "execution_count": 8,
     "metadata": {},
     "output_type": "execute_result"
    }
   ],
   "source": [
    "train.describe()"
   ]
  },
  {
   "cell_type": "code",
   "execution_count": 9,
   "id": "db05dcb7",
   "metadata": {},
   "outputs": [
    {
     "data": {
      "text/plain": [
       "(23880, 17)"
      ]
     },
     "execution_count": 9,
     "metadata": {},
     "output_type": "execute_result"
    }
   ],
   "source": [
    "train.shape"
   ]
  },
  {
   "cell_type": "code",
   "execution_count": 10,
   "id": "823dc201",
   "metadata": {},
   "outputs": [
    {
     "data": {
      "text/plain": [
       "(7767, 16)"
      ]
     },
     "execution_count": 10,
     "metadata": {},
     "output_type": "execute_result"
    }
   ],
   "source": [
    "test.shape"
   ]
  },
  {
   "cell_type": "markdown",
   "id": "bfdc3b5a",
   "metadata": {},
   "source": [
    "### 2.1 Checking and Handling NULL values and Separating Categorical and Discrete Variables"
   ]
  },
  {
   "cell_type": "code",
   "execution_count": 11,
   "id": "0d9b8017",
   "metadata": {},
   "outputs": [
    {
     "data": {
      "text/plain": [
       "customer_id                     0\n",
       "customer_age                  477\n",
       "job_type                        0\n",
       "marital                       107\n",
       "education                       0\n",
       "default                         0\n",
       "balance                       277\n",
       "housing_loan                    0\n",
       "personal_loan                 113\n",
       "communication_type              0\n",
       "day_of_month                    0\n",
       "month                           0\n",
       "last_contact_duration           0\n",
       "num_contacts_in_campaign       96\n",
       "num_contacts_prev_campaign      0\n",
       "prev_campaign_outcome           0\n",
       "term_deposit_subscribed         0\n",
       "dtype: int64"
      ]
     },
     "execution_count": 11,
     "metadata": {},
     "output_type": "execute_result"
    }
   ],
   "source": [
    "train.isnull().sum()"
   ]
  },
  {
   "cell_type": "code",
   "execution_count": 12,
   "id": "b5a18813",
   "metadata": {},
   "outputs": [],
   "source": [
    "train1 = train.customer_age.fillna(train.customer_age.mean(), inplace=True)"
   ]
  },
  {
   "cell_type": "code",
   "execution_count": 13,
   "id": "e319a592",
   "metadata": {},
   "outputs": [],
   "source": [
    "train1 = train"
   ]
  },
  {
   "cell_type": "code",
   "execution_count": 14,
   "id": "06b53e69",
   "metadata": {},
   "outputs": [],
   "source": [
    "train1['marital'] = train1['marital'].fillna(train1['marital'].mode()[0])"
   ]
  },
  {
   "cell_type": "code",
   "execution_count": 15,
   "id": "acd3db2b",
   "metadata": {},
   "outputs": [],
   "source": [
    "train1.balance.fillna(train1.balance.median(), inplace=True)"
   ]
  },
  {
   "cell_type": "code",
   "execution_count": 16,
   "id": "cf07ed16",
   "metadata": {},
   "outputs": [],
   "source": [
    "train1['personal_loan'] = train1['personal_loan'].fillna(train1['personal_loan'].mode()[0])"
   ]
  },
  {
   "cell_type": "code",
   "execution_count": 17,
   "id": "6578e41e",
   "metadata": {},
   "outputs": [],
   "source": [
    "train1['num_contacts_in_campaign'] = train1['num_contacts_in_campaign'].fillna(train1['num_contacts_in_campaign'].mode()[0])"
   ]
  },
  {
   "cell_type": "code",
   "execution_count": 19,
   "id": "822a184c",
   "metadata": {},
   "outputs": [],
   "source": [
    "test1 = test"
   ]
  },
  {
   "cell_type": "code",
   "execution_count": 20,
   "id": "f20c2dbb",
   "metadata": {},
   "outputs": [
    {
     "data": {
      "text/plain": [
       "customer_id                     0\n",
       "customer_age                  142\n",
       "job_type                        0\n",
       "marital                        43\n",
       "education                       0\n",
       "default                         0\n",
       "balance                       122\n",
       "housing_loan                    0\n",
       "personal_loan                  36\n",
       "communication_type              0\n",
       "last_contact_duration           0\n",
       "day_of_month                    0\n",
       "month                           0\n",
       "num_contacts_in_campaign       16\n",
       "num_contacts_prev_campaign      0\n",
       "prev_campaign_outcome           0\n",
       "dtype: int64"
      ]
     },
     "execution_count": 20,
     "metadata": {},
     "output_type": "execute_result"
    }
   ],
   "source": [
    "test1.isnull().sum()"
   ]
  },
  {
   "cell_type": "code",
   "execution_count": 21,
   "id": "06cef293",
   "metadata": {},
   "outputs": [],
   "source": [
    "test1.customer_age.fillna(test1.customer_age.mean(), inplace=True)"
   ]
  },
  {
   "cell_type": "code",
   "execution_count": 22,
   "id": "78505368",
   "metadata": {},
   "outputs": [],
   "source": [
    "test1['marital'] = test1['marital'].fillna(test1['marital'].mode()[0])"
   ]
  },
  {
   "cell_type": "code",
   "execution_count": 23,
   "id": "831fbab8",
   "metadata": {},
   "outputs": [],
   "source": [
    "test1.balance.fillna(test1.balance.median(), inplace=True)"
   ]
  },
  {
   "cell_type": "code",
   "execution_count": 24,
   "id": "c732788a",
   "metadata": {},
   "outputs": [],
   "source": [
    "test1['personal_loan'] = test1['personal_loan'].fillna(test1['personal_loan'].mode()[0])"
   ]
  },
  {
   "cell_type": "code",
   "execution_count": 25,
   "id": "945400d2",
   "metadata": {},
   "outputs": [],
   "source": [
    "test1['num_contacts_in_campaign'] = test1['num_contacts_in_campaign'].fillna(test1['num_contacts_in_campaign'].mode()[0])"
   ]
  },
  {
   "cell_type": "code",
   "execution_count": 26,
   "id": "05827d41",
   "metadata": {},
   "outputs": [
    {
     "data": {
      "text/plain": [
       "['job_type',\n",
       " 'marital',\n",
       " 'education',\n",
       " 'default',\n",
       " 'housing_loan',\n",
       " 'personal_loan',\n",
       " 'communication_type',\n",
       " 'month',\n",
       " 'prev_campaign_outcome']"
      ]
     },
     "execution_count": 26,
     "metadata": {},
     "output_type": "execute_result"
    }
   ],
   "source": [
    "categorical_features=[feature for feature in train.columns if ((train[feature].dtypes=='O') & (feature not in ['term_deposit_subscribed','customer_id']))]\n",
    "categorical_features"
   ]
  },
  {
   "cell_type": "code",
   "execution_count": 27,
   "id": "5a151faa",
   "metadata": {},
   "outputs": [
    {
     "name": "stdout",
     "output_type": "stream",
     "text": [
      "The feature is job_type and number of categories are 12\n",
      "The feature is marital and number of categories are 3\n",
      "The feature is education and number of categories are 4\n",
      "The feature is default and number of categories are 2\n",
      "The feature is housing_loan and number of categories are 2\n",
      "The feature is personal_loan and number of categories are 2\n",
      "The feature is communication_type and number of categories are 3\n",
      "The feature is month and number of categories are 12\n",
      "The feature is prev_campaign_outcome and number of categories are 4\n"
     ]
    }
   ],
   "source": [
    "for feature in categorical_features:\n",
    "    print('The feature is {} and number of categories are {}'.format(feature,len(train[feature].unique())))"
   ]
  },
  {
   "cell_type": "markdown",
   "id": "9577a0c9",
   "metadata": {},
   "source": [
    "###### Insight - <br>\n",
    "1. 9 categorical features\n",
    "2. Job type and month have highest number of categorical values"
   ]
  },
  {
   "cell_type": "code",
   "execution_count": 28,
   "id": "e2784287",
   "metadata": {},
   "outputs": [
    {
     "data": {
      "image/png": "[encoded data removed]",
      "text/plain": [
       "<Figure size 1080x5760 with 9 Axes>"
      ]
     },
     "metadata": {},
     "output_type": "display_data"
    }
   ],
   "source": [
    "plt.figure(figsize=(15,80), facecolor='white')\n",
    "plotnumber =1\n",
    "for categorical_feature in categorical_features:\n",
    "    ax = plt.subplot(12,3,plotnumber)\n",
    "    sns.countplot(y=categorical_feature,data=train)\n",
    "    plt.xlabel(categorical_feature)\n",
    "    plt.title(categorical_feature)\n",
    "    plotnumber+=1\n",
    "plt.show()"
   ]
  },
  {
   "cell_type": "markdown",
   "id": "80bc2ac0",
   "metadata": {},
   "source": [
    "##### Insight - <br> \n",
    "1. Clients with job_type as blue collar are highest in number and unknown is least\n",
    "2. Clients who are married are in high records and least are divorced\n",
    "3. Clients with education background as secondary are the highest \n",
    "4. Default seems not to play an important role as it has value of no high and yes very low(can drop it)\n",
    "5. Data in the month of may is high and less in december"
   ]
  },
  {
   "cell_type": "code",
   "execution_count": 29,
   "id": "3ea3dcfe",
   "metadata": {},
   "outputs": [
    {
     "name": "stdout",
     "output_type": "stream",
     "text": [
      "No missing value found\n"
     ]
    }
   ],
   "source": [
    "features_na=[features for features in train.columns if train[features].isnull().sum()>0]\n",
    "for feature in features_na:\n",
    "    print(feature, np.round(train[feature].isnull().mean(), 4), '%missing values')\n",
    "else:\n",
    "    print('No missing value found')"
   ]
  },
  {
   "cell_type": "code",
   "execution_count": 30,
   "id": "908b1a16",
   "metadata": {},
   "outputs": [
    {
     "name": "stdout",
     "output_type": "stream",
     "text": [
      "customer_id 23880\n",
      "customer_age 76\n",
      "job_type 12\n",
      "marital 3\n",
      "education 4\n",
      "default 2\n",
      "balance 5811\n",
      "housing_loan 2\n",
      "personal_loan 2\n",
      "communication_type 3\n",
      "day_of_month 31\n",
      "month 12\n",
      "last_contact_duration 312\n",
      "num_contacts_in_campaign 44\n",
      "num_contacts_prev_campaign 38\n",
      "prev_campaign_outcome 4\n",
      "term_deposit_subscribed 2\n"
     ]
    }
   ],
   "source": [
    "for column in train.columns:\n",
    "    print(column, train[column].nunique())"
   ]
  },
  {
   "cell_type": "markdown",
   "id": "d49de9cd",
   "metadata": {},
   "source": [
    "#### Insight- <br>\n",
    "\n",
    "No feature with only one value"
   ]
  },
  {
   "cell_type": "code",
   "execution_count": 31,
   "id": "b4036114",
   "metadata": {},
   "outputs": [
    {
     "name": "stdout",
     "output_type": "stream",
     "text": [
      "term_deposit_subscribed  job_type     \n",
      "0                        admin.           2436\n",
      "                         blue-collar      4833\n",
      "                         entrepreneur      711\n",
      "                         housemaid         615\n",
      "                         management       4390\n",
      "                         retired           922\n",
      "                         self-employed     745\n",
      "                         services         2042\n",
      "                         student           362\n",
      "                         technician       3582\n",
      "                         unemployed        571\n",
      "                         unknown           135\n",
      "1                        admin.            281\n",
      "                         blue-collar       334\n",
      "                         entrepreneur       62\n",
      "                         housemaid          48\n",
      "                         management        616\n",
      "                         retired           254\n",
      "                         self-employed     100\n",
      "                         services          182\n",
      "                         student           140\n",
      "                         technician        396\n",
      "                         unemployed        104\n",
      "                         unknown            19\n",
      "dtype: int64\n",
      "term_deposit_subscribed  marital \n",
      "0                        divorced     2503\n",
      "                         married     13050\n",
      "                         single       5791\n",
      "1                        divorced      292\n",
      "                         married      1328\n",
      "                         single        916\n",
      "dtype: int64\n",
      "term_deposit_subscribed  education\n",
      "0                        primary       3289\n",
      "                         secondary    11162\n",
      "                         tertiary      6029\n",
      "                         unknown        864\n",
      "1                        primary        282\n",
      "                         secondary     1168\n",
      "                         tertiary       964\n",
      "                         unknown        122\n",
      "dtype: int64\n",
      "term_deposit_subscribed  default\n",
      "0                        no         20943\n",
      "                         yes          401\n",
      "1                        no          2509\n",
      "                         yes           27\n",
      "dtype: int64\n",
      "term_deposit_subscribed  housing_loan\n",
      "0                        no               8878\n",
      "                         yes             12466\n",
      "1                        no               1633\n",
      "                         yes               903\n",
      "dtype: int64\n",
      "term_deposit_subscribed  personal_loan\n",
      "0                        no               17795\n",
      "                         yes               3549\n",
      "1                        no                2319\n",
      "                         yes                217\n",
      "dtype: int64\n",
      "term_deposit_subscribed  communication_type\n",
      "0                        cellular              13373\n",
      "                         telephone              1307\n",
      "                         unknown                6664\n",
      "1                        cellular               2113\n",
      "                         telephone               195\n",
      "                         unknown                 228\n",
      "dtype: int64\n",
      "term_deposit_subscribed  month\n",
      "0                        apr      1301\n",
      "                         aug      2945\n",
      "                         dec        63\n",
      "                         feb      1169\n",
      "                         jan       663\n",
      "                         jul      3334\n",
      "                         jun      2545\n",
      "                         mar       126\n",
      "                         may      6902\n",
      "                         nov      1909\n",
      "                         oct       223\n",
      "                         sep       164\n",
      "1                        apr       274\n",
      "                         aug       315\n",
      "                         dec        50\n",
      "                         feb       212\n",
      "                         jan        68\n",
      "                         jul       281\n",
      "                         jun       256\n",
      "                         mar       135\n",
      "                         may       429\n",
      "                         nov       195\n",
      "                         oct       166\n",
      "                         sep       155\n",
      "dtype: int64\n",
      "term_deposit_subscribed  prev_campaign_outcome\n",
      "0                        failure                   2326\n",
      "                         other                      804\n",
      "                         success                    271\n",
      "                         unknown                  17943\n",
      "1                        failure                    287\n",
      "                         other                      137\n",
      "                         success                    542\n",
      "                         unknown                   1570\n",
      "dtype: int64\n"
     ]
    }
   ],
   "source": [
    "for categorical_feature in categorical_features:\n",
    "    print(train.groupby(['term_deposit_subscribed', categorical_feature]).size())"
   ]
  },
  {
   "cell_type": "markdown",
   "id": "20dbce4d",
   "metadata": {},
   "source": [
    "#### Insight-<br>\n",
    "1. The ratio of number of clients in a particular category of job subscribed to term deposit to the number of clients who didn't subscribe to term deposit. <br>\n",
    "   admin: 0.115<br>\n",
    "   blue collar: 0.0691<br>\n",
    "   entrepreneur: 0.0872<br>\n",
    "   housemaid:0.078<br>\n",
    "   management: 0.140<br>\n",
    "   retired: 0.2754<br>\n",
    "   self-employed: 0.134<br>\n",
    "   services: 0.0891<br>\n",
    "   student:0.386<br>\n",
    "   technichian:0.11<br>\n",
    "   unemployed: 0.182<br>\n",
    "   unknown: 0.140<br>\n",
    "\n",
    "   1.Retired and student category show high interest on term deposit subscribed.<br>\n",
    "   2.People having housing loan do not seem much interested.<br>\n",
    "   3.If pre campagin outcome that is prev_campaign_outcome=success then, there is high chance of client to show interest on     term deposit.<br>\n",
    "   4.In the month of March,clients show higher interest in term deposit.<br>\n",
    "   \n",
    "   \n",
    "\n",
    "2. The ratio of number of clients in a particular month subscribed to term deposit to the number of clients who didn't subscribe to term deposit.<br>\n",
    "   Jan:0.102<br>\n",
    "   Feb:0.181<br>\n",
    "   March:1.071<br>\n",
    "   April:0.210<br>\n",
    "   May:0.06<br>\n",
    "   June:0.100<br>\n",
    "   July:0.084<br>\n",
    "   August:0.106<br>\n",
    "   Sept:0.94<br>\n",
    "   Oct:0.744<br>\n",
    "   Nov:0.102<br>\n",
    "   Dec:0.79<br>\n",
    "\n",
    "   1.In the  month of March, September, October and December, client show high interest to term deposit.<br>\n",
    "   2.In month of May, records are high but client interst ratio is very less<br>\n"
   ]
  },
  {
   "cell_type": "code",
   "execution_count": 32,
   "id": "ea474239",
   "metadata": {},
   "outputs": [
    {
     "name": "stdout",
     "output_type": "stream",
     "text": [
      "Number of numerical variables:  6\n"
     ]
    },
    {
     "data": {
      "text/html": [
       "<div>\n",
       "<style scoped>\n",
       "    .dataframe tbody tr th:only-of-type {\n",
       "        vertical-align: middle;\n",
       "    }\n",
       "\n",
       "    .dataframe tbody tr th {\n",
       "        vertical-align: top;\n",
       "    }\n",
       "\n",
       "    .dataframe thead th {\n",
       "        text-align: right;\n",
       "    }\n",
       "</style>\n",
       "<table border=\"1\" class=\"dataframe\">\n",
       "  <thead>\n",
       "    <tr style=\"text-align: right;\">\n",
       "      <th></th>\n",
       "      <th>customer_age</th>\n",
       "      <th>balance</th>\n",
       "      <th>day_of_month</th>\n",
       "      <th>last_contact_duration</th>\n",
       "      <th>num_contacts_in_campaign</th>\n",
       "      <th>num_contacts_prev_campaign</th>\n",
       "    </tr>\n",
       "  </thead>\n",
       "  <tbody>\n",
       "    <tr>\n",
       "      <th>0</th>\n",
       "      <td>34.0</td>\n",
       "      <td>934.0</td>\n",
       "      <td>18</td>\n",
       "      <td>704</td>\n",
       "      <td>2.0</td>\n",
       "      <td>1</td>\n",
       "    </tr>\n",
       "    <tr>\n",
       "      <th>1</th>\n",
       "      <td>41.0</td>\n",
       "      <td>1352.0</td>\n",
       "      <td>13</td>\n",
       "      <td>893</td>\n",
       "      <td>2.0</td>\n",
       "      <td>0</td>\n",
       "    </tr>\n",
       "    <tr>\n",
       "      <th>2</th>\n",
       "      <td>57.0</td>\n",
       "      <td>495.0</td>\n",
       "      <td>18</td>\n",
       "      <td>796</td>\n",
       "      <td>4.0</td>\n",
       "      <td>0</td>\n",
       "    </tr>\n",
       "    <tr>\n",
       "      <th>3</th>\n",
       "      <td>37.0</td>\n",
       "      <td>650.0</td>\n",
       "      <td>26</td>\n",
       "      <td>880</td>\n",
       "      <td>1.0</td>\n",
       "      <td>0</td>\n",
       "    </tr>\n",
       "    <tr>\n",
       "      <th>4</th>\n",
       "      <td>29.0</td>\n",
       "      <td>265.0</td>\n",
       "      <td>19</td>\n",
       "      <td>795</td>\n",
       "      <td>2.0</td>\n",
       "      <td>0</td>\n",
       "    </tr>\n",
       "  </tbody>\n",
       "</table>\n",
       "</div>"
      ],
      "text/plain": [
       "   customer_age  balance  day_of_month  last_contact_duration  \\\n",
       "0          34.0    934.0            18                    704   \n",
       "1          41.0   1352.0            13                    893   \n",
       "2          57.0    495.0            18                    796   \n",
       "3          37.0    650.0            26                    880   \n",
       "4          29.0    265.0            19                    795   \n",
       "\n",
       "   num_contacts_in_campaign  num_contacts_prev_campaign  \n",
       "0                       2.0                           1  \n",
       "1                       2.0                           0  \n",
       "2                       4.0                           0  \n",
       "3                       1.0                           0  \n",
       "4                       2.0                           0  "
      ]
     },
     "execution_count": 32,
     "metadata": {},
     "output_type": "execute_result"
    }
   ],
   "source": [
    "numerical_features = [feature for feature in train.columns if ((train[feature].dtypes != 'O') & (feature not in ['term_deposit_subscribed']))]\n",
    "print('Number of numerical variables: ', len(numerical_features))\n",
    "\n",
    "# visualise the numerical variables\n",
    "train[numerical_features].head()"
   ]
  },
  {
   "cell_type": "code",
   "execution_count": 33,
   "id": "ef168744",
   "metadata": {},
   "outputs": [
    {
     "name": "stdout",
     "output_type": "stream",
     "text": [
      "Discrete Variables Count: 0\n"
     ]
    }
   ],
   "source": [
    "discrete_feature=[feature for feature in numerical_features if len(train[feature].unique())<25]\n",
    "print(\"Discrete Variables Count: {}\".format(len(discrete_feature)))"
   ]
  },
  {
   "cell_type": "code",
   "execution_count": 34,
   "id": "afdeaf6c",
   "metadata": {},
   "outputs": [
    {
     "name": "stdout",
     "output_type": "stream",
     "text": [
      "Continuous feature Count 6\n"
     ]
    }
   ],
   "source": [
    "continuous_features=[feature for feature in numerical_features if feature not in discrete_feature+['term_deposit_subscribed']]\n",
    "print(\"Continuous feature Count {}\".format(len(continuous_features)))"
   ]
  },
  {
   "cell_type": "code",
   "execution_count": 35,
   "id": "f575ba1f",
   "metadata": {},
   "outputs": [
    {
     "name": "stderr",
     "output_type": "stream",
     "text": [
      "C:\\Users\\hp\\anaconda3\\lib\\site-packages\\seaborn\\distributions.py:2619: FutureWarning: `distplot` is a deprecated function and will be removed in a future version. Please adapt your code to use either `displot` (a figure-level function with similar flexibility) or `histplot` (an axes-level function for histograms).\n",
      "  warnings.warn(msg, FutureWarning)\n",
      "C:\\Users\\hp\\anaconda3\\lib\\site-packages\\seaborn\\distributions.py:2619: FutureWarning: `distplot` is a deprecated function and will be removed in a future version. Please adapt your code to use either `displot` (a figure-level function with similar flexibility) or `histplot` (an axes-level function for histograms).\n",
      "  warnings.warn(msg, FutureWarning)\n",
      "C:\\Users\\hp\\anaconda3\\lib\\site-packages\\seaborn\\distributions.py:2619: FutureWarning: `distplot` is a deprecated function and will be removed in a future version. Please adapt your code to use either `displot` (a figure-level function with similar flexibility) or `histplot` (an axes-level function for histograms).\n",
      "  warnings.warn(msg, FutureWarning)\n",
      "C:\\Users\\hp\\anaconda3\\lib\\site-packages\\seaborn\\distributions.py:2619: FutureWarning: `distplot` is a deprecated function and will be removed in a future version. Please adapt your code to use either `displot` (a figure-level function with similar flexibility) or `histplot` (an axes-level function for histograms).\n",
      "  warnings.warn(msg, FutureWarning)\n",
      "C:\\Users\\hp\\anaconda3\\lib\\site-packages\\seaborn\\distributions.py:2619: FutureWarning: `distplot` is a deprecated function and will be removed in a future version. Please adapt your code to use either `displot` (a figure-level function with similar flexibility) or `histplot` (an axes-level function for histograms).\n",
      "  warnings.warn(msg, FutureWarning)\n",
      "C:\\Users\\hp\\anaconda3\\lib\\site-packages\\seaborn\\distributions.py:2619: FutureWarning: `distplot` is a deprecated function and will be removed in a future version. Please adapt your code to use either `displot` (a figure-level function with similar flexibility) or `histplot` (an axes-level function for histograms).\n",
      "  warnings.warn(msg, FutureWarning)\n"
     ]
    },
    {
     "data": {
      "image/png": "[encoded data removed]",
      "text/plain": [
       "<Figure size 1440x4320 with 6 Axes>"
      ]
     },
     "metadata": {},
     "output_type": "display_data"
    }
   ],
   "source": [
    "plt.figure(figsize=(20,60), facecolor='white')\n",
    "plotnumber =1\n",
    "for continuous_feature in continuous_features:\n",
    "    ax = plt.subplot(12,3,plotnumber)\n",
    "    sns.distplot(train[continuous_feature])\n",
    "    plt.xlabel(continuous_feature)\n",
    "    plotnumber+=1\n",
    "plt.show()"
   ]
  },
  {
   "cell_type": "markdown",
   "id": "6f54cbff",
   "metadata": {},
   "source": [
    "#### Insight-<br>\n",
    "\n",
    "   1. It seems customer_age, day_of_month, last_contact_duration are distributed normally.<br>\n",
    "   2. Balance, num_contacts_in_campaign and num_contacts_prev_camapign are heavely skewed towards left and seems to be have some outliers.<br>\n",
    "   3. Client show interest in term deposit who had discussion for longer duration."
   ]
  },
  {
   "cell_type": "markdown",
   "id": "e1f8d63b",
   "metadata": {},
   "source": [
    "### 2.2 Finding and Removing Outliers"
   ]
  },
  {
   "cell_type": "code",
   "execution_count": 36,
   "id": "36bed1e4",
   "metadata": {},
   "outputs": [
    {
     "data": {
      "image/png": "[encoded data removed]",
      "text/plain": [
       "<Figure size 1440x4320 with 6 Axes>"
      ]
     },
     "metadata": {},
     "output_type": "display_data"
    }
   ],
   "source": [
    "plt.figure(figsize=(20,60), facecolor='white')\n",
    "plotnumber =1\n",
    "for feature in continuous_features:\n",
    "    ax = plt.subplot(12,3,plotnumber)\n",
    "    sns.boxplot(x=\"term_deposit_subscribed\", y= train[feature], data=train)\n",
    "    plt.xlabel(feature)\n",
    "    plotnumber+=1\n",
    "plt.show()"
   ]
  },
  {
   "cell_type": "code",
   "execution_count": 37,
   "id": "1d116761",
   "metadata": {},
   "outputs": [
    {
     "name": "stderr",
     "output_type": "stream",
     "text": [
      "C:\\Users\\hp\\anaconda3\\lib\\site-packages\\seaborn\\_decorators.py:36: FutureWarning: Pass the following variable as a keyword arg: x. From version 0.12, the only valid positional argument will be `data`, and passing other arguments without an explicit keyword will result in an error or misinterpretation.\n",
      "  warnings.warn(\n",
      "C:\\Users\\hp\\anaconda3\\lib\\site-packages\\seaborn\\_decorators.py:36: FutureWarning: Pass the following variable as a keyword arg: x. From version 0.12, the only valid positional argument will be `data`, and passing other arguments without an explicit keyword will result in an error or misinterpretation.\n",
      "  warnings.warn(\n",
      "C:\\Users\\hp\\anaconda3\\lib\\site-packages\\seaborn\\_decorators.py:36: FutureWarning: Pass the following variable as a keyword arg: x. From version 0.12, the only valid positional argument will be `data`, and passing other arguments without an explicit keyword will result in an error or misinterpretation.\n",
      "  warnings.warn(\n",
      "C:\\Users\\hp\\anaconda3\\lib\\site-packages\\seaborn\\_decorators.py:36: FutureWarning: Pass the following variable as a keyword arg: x. From version 0.12, the only valid positional argument will be `data`, and passing other arguments without an explicit keyword will result in an error or misinterpretation.\n",
      "  warnings.warn(\n",
      "C:\\Users\\hp\\anaconda3\\lib\\site-packages\\seaborn\\_decorators.py:36: FutureWarning: Pass the following variable as a keyword arg: x. From version 0.12, the only valid positional argument will be `data`, and passing other arguments without an explicit keyword will result in an error or misinterpretation.\n",
      "  warnings.warn(\n",
      "C:\\Users\\hp\\anaconda3\\lib\\site-packages\\seaborn\\_decorators.py:36: FutureWarning: Pass the following variable as a keyword arg: x. From version 0.12, the only valid positional argument will be `data`, and passing other arguments without an explicit keyword will result in an error or misinterpretation.\n",
      "  warnings.warn(\n"
     ]
    },
    {
     "data": {
      "image/png": "[encoded data removed]",
      "text/plain": [
       "<Figure size 1440x4320 with 6 Axes>"
      ]
     },
     "metadata": {},
     "output_type": "display_data"
    }
   ],
   "source": [
    "plt.figure(figsize=(20,60), facecolor='white')\n",
    "plotnumber =1\n",
    "for numerical_feature in numerical_features:\n",
    "    ax = plt.subplot(12,3,plotnumber)\n",
    "    sns.boxplot(train[numerical_feature])\n",
    "    plt.xlabel(numerical_feature)\n",
    "    plotnumber+=1\n",
    "plt.show()"
   ]
  },
  {
   "cell_type": "markdown",
   "id": "14d7937e",
   "metadata": {},
   "source": [
    "#### Insight-<br>\n",
    "\n",
    "customer_age, balance, last_contact_duration, num_contacts_in_campaign and num_contacts_prev_campaign has some outliers"
   ]
  },
  {
   "cell_type": "code",
   "execution_count": null,
   "id": "f919a59d",
   "metadata": {},
   "outputs": [],
   "source": [
    "numerical_features=sorted(numerical_features)\n",
    "outliers=[]\n",
    "q1,q3 = np.percentile(numerical_features,[25,75])\n",
    "IQR= q3-q1\n",
    "lower_fence=q1-(1.5*IQR)\n",
    "higher_fence= q3+(1.5*IQR)\n",
    "for i in numerical_features:\n",
    "    if i<lower_feance and i>higher_fence:\n",
    "        outliers.append(i)\n",
    "outliers"
   ]
  },
  {
   "cell_type": "markdown",
   "id": "1c71e019",
   "metadata": {},
   "source": [
    "### 2.3 Data Visualization through Heat Map"
   ]
  },
  {
   "cell_type": "code",
   "execution_count": 44,
   "id": "0a2fbb99",
   "metadata": {},
   "outputs": [
    {
     "data": {
      "text/plain": [
       "<AxesSubplot:>"
      ]
     },
     "execution_count": 44,
     "metadata": {},
     "output_type": "execute_result"
    },
    {
     "data": {
      "image/png": "[encoded data removed]",
      "text/plain": [
       "<Figure size 1080x504 with 2 Axes>"
      ]
     },
     "metadata": {
      "needs_background": "light"
     },
     "output_type": "display_data"
    }
   ],
   "source": [
    "cor_mat=train1.corr()\n",
    "fig = plt.figure(figsize=(15,7))\n",
    "sns.heatmap(cor_mat,annot=True)"
   ]
  },
  {
   "cell_type": "markdown",
   "id": "a984fa0d",
   "metadata": {},
   "source": [
    "#### Insight-<br>\n",
    "\n",
    "It seems no feature is heavily correlated with other features."
   ]
  },
  {
   "cell_type": "markdown",
   "id": "9a594640",
   "metadata": {},
   "source": [
    "### 2.4 Further Analysis of Data through Grouping and Dropping Unwanted Features"
   ]
  },
  {
   "cell_type": "code",
   "execution_count": 45,
   "id": "e9d5ba93",
   "metadata": {},
   "outputs": [
    {
     "data": {
      "image/png": "[encoded data removed]",
      "text/plain": [
       "<Figure size 432x288 with 1 Axes>"
      ]
     },
     "metadata": {
      "needs_background": "light"
     },
     "output_type": "display_data"
    }
   ],
   "source": [
    "sns.countplot(x='term_deposit_subscribed',data=train1)\n",
    "plt.show()"
   ]
  },
  {
   "cell_type": "code",
   "execution_count": 46,
   "id": "06d4464f",
   "metadata": {},
   "outputs": [
    {
     "data": {
      "text/plain": [
       "term_deposit_subscribed\n",
       "0    21344\n",
       "1     2536\n",
       "Name: term_deposit_subscribed, dtype: int64"
      ]
     },
     "execution_count": 46,
     "metadata": {},
     "output_type": "execute_result"
    }
   ],
   "source": [
    "train1['term_deposit_subscribed'].groupby(train1['term_deposit_subscribed']).count()"
   ]
  },
  {
   "cell_type": "code",
   "execution_count": 47,
   "id": "23de9dbf",
   "metadata": {},
   "outputs": [],
   "source": [
    "df=train1.copy()"
   ]
  },
  {
   "cell_type": "code",
   "execution_count": 48,
   "id": "a9a2446b",
   "metadata": {},
   "outputs": [
    {
     "data": {
      "text/html": [
       "<div>\n",
       "<style scoped>\n",
       "    .dataframe tbody tr th:only-of-type {\n",
       "        vertical-align: middle;\n",
       "    }\n",
       "\n",
       "    .dataframe tbody tr th {\n",
       "        vertical-align: top;\n",
       "    }\n",
       "\n",
       "    .dataframe thead th {\n",
       "        text-align: right;\n",
       "    }\n",
       "</style>\n",
       "<table border=\"1\" class=\"dataframe\">\n",
       "  <thead>\n",
       "    <tr style=\"text-align: right;\">\n",
       "      <th></th>\n",
       "      <th>customer_id</th>\n",
       "      <th>customer_age</th>\n",
       "      <th>job_type</th>\n",
       "      <th>marital</th>\n",
       "      <th>education</th>\n",
       "      <th>default</th>\n",
       "      <th>balance</th>\n",
       "      <th>housing_loan</th>\n",
       "      <th>personal_loan</th>\n",
       "      <th>communication_type</th>\n",
       "      <th>day_of_month</th>\n",
       "      <th>month</th>\n",
       "      <th>last_contact_duration</th>\n",
       "      <th>num_contacts_in_campaign</th>\n",
       "      <th>num_contacts_prev_campaign</th>\n",
       "      <th>prev_campaign_outcome</th>\n",
       "      <th>term_deposit_subscribed</th>\n",
       "    </tr>\n",
       "  </thead>\n",
       "  <tbody>\n",
       "    <tr>\n",
       "      <th>0</th>\n",
       "      <td>id_32289</td>\n",
       "      <td>34.0</td>\n",
       "      <td>blue-collar</td>\n",
       "      <td>married</td>\n",
       "      <td>secondary</td>\n",
       "      <td>no</td>\n",
       "      <td>934.0</td>\n",
       "      <td>no</td>\n",
       "      <td>yes</td>\n",
       "      <td>cellular</td>\n",
       "      <td>18</td>\n",
       "      <td>nov</td>\n",
       "      <td>704</td>\n",
       "      <td>2.0</td>\n",
       "      <td>1</td>\n",
       "      <td>other</td>\n",
       "      <td>0</td>\n",
       "    </tr>\n",
       "    <tr>\n",
       "      <th>1</th>\n",
       "      <td>id_40992</td>\n",
       "      <td>41.0</td>\n",
       "      <td>blue-collar</td>\n",
       "      <td>married</td>\n",
       "      <td>primary</td>\n",
       "      <td>no</td>\n",
       "      <td>1352.0</td>\n",
       "      <td>yes</td>\n",
       "      <td>no</td>\n",
       "      <td>cellular</td>\n",
       "      <td>13</td>\n",
       "      <td>may</td>\n",
       "      <td>893</td>\n",
       "      <td>2.0</td>\n",
       "      <td>0</td>\n",
       "      <td>unknown</td>\n",
       "      <td>0</td>\n",
       "    </tr>\n",
       "    <tr>\n",
       "      <th>2</th>\n",
       "      <td>id_41178</td>\n",
       "      <td>57.0</td>\n",
       "      <td>blue-collar</td>\n",
       "      <td>married</td>\n",
       "      <td>primary</td>\n",
       "      <td>no</td>\n",
       "      <td>495.0</td>\n",
       "      <td>no</td>\n",
       "      <td>no</td>\n",
       "      <td>cellular</td>\n",
       "      <td>18</td>\n",
       "      <td>aug</td>\n",
       "      <td>796</td>\n",
       "      <td>4.0</td>\n",
       "      <td>0</td>\n",
       "      <td>unknown</td>\n",
       "      <td>1</td>\n",
       "    </tr>\n",
       "    <tr>\n",
       "      <th>3</th>\n",
       "      <td>id_35102</td>\n",
       "      <td>37.0</td>\n",
       "      <td>management</td>\n",
       "      <td>married</td>\n",
       "      <td>tertiary</td>\n",
       "      <td>no</td>\n",
       "      <td>650.0</td>\n",
       "      <td>yes</td>\n",
       "      <td>no</td>\n",
       "      <td>unknown</td>\n",
       "      <td>26</td>\n",
       "      <td>may</td>\n",
       "      <td>880</td>\n",
       "      <td>1.0</td>\n",
       "      <td>0</td>\n",
       "      <td>unknown</td>\n",
       "      <td>0</td>\n",
       "    </tr>\n",
       "    <tr>\n",
       "      <th>4</th>\n",
       "      <td>id_34750</td>\n",
       "      <td>29.0</td>\n",
       "      <td>technician</td>\n",
       "      <td>married</td>\n",
       "      <td>secondary</td>\n",
       "      <td>no</td>\n",
       "      <td>265.0</td>\n",
       "      <td>yes</td>\n",
       "      <td>no</td>\n",
       "      <td>cellular</td>\n",
       "      <td>19</td>\n",
       "      <td>aug</td>\n",
       "      <td>795</td>\n",
       "      <td>2.0</td>\n",
       "      <td>0</td>\n",
       "      <td>unknown</td>\n",
       "      <td>0</td>\n",
       "    </tr>\n",
       "  </tbody>\n",
       "</table>\n",
       "</div>"
      ],
      "text/plain": [
       "  customer_id  customer_age     job_type  marital  education default  balance  \\\n",
       "0    id_32289          34.0  blue-collar  married  secondary      no    934.0   \n",
       "1    id_40992          41.0  blue-collar  married    primary      no   1352.0   \n",
       "2    id_41178          57.0  blue-collar  married    primary      no    495.0   \n",
       "3    id_35102          37.0   management  married   tertiary      no    650.0   \n",
       "4    id_34750          29.0   technician  married  secondary      no    265.0   \n",
       "\n",
       "  housing_loan personal_loan communication_type  day_of_month month  \\\n",
       "0           no           yes           cellular            18   nov   \n",
       "1          yes            no           cellular            13   may   \n",
       "2           no            no           cellular            18   aug   \n",
       "3          yes            no            unknown            26   may   \n",
       "4          yes            no           cellular            19   aug   \n",
       "\n",
       "   last_contact_duration  num_contacts_in_campaign  \\\n",
       "0                    704                       2.0   \n",
       "1                    893                       2.0   \n",
       "2                    796                       4.0   \n",
       "3                    880                       1.0   \n",
       "4                    795                       2.0   \n",
       "\n",
       "   num_contacts_prev_campaign prev_campaign_outcome  term_deposit_subscribed  \n",
       "0                           1                 other                        0  \n",
       "1                           0               unknown                        0  \n",
       "2                           0               unknown                        1  \n",
       "3                           0               unknown                        0  \n",
       "4                           0               unknown                        0  "
      ]
     },
     "execution_count": 48,
     "metadata": {},
     "output_type": "execute_result"
    }
   ],
   "source": [
    "df.head()"
   ]
  },
  {
   "cell_type": "code",
   "execution_count": 49,
   "id": "fbac2bb4",
   "metadata": {},
   "outputs": [
    {
     "data": {
      "text/plain": [
       "term_deposit_subscribed  default\n",
       "0                        no         20943\n",
       "                         yes          401\n",
       "1                        no          2509\n",
       "                         yes           27\n",
       "dtype: int64"
      ]
     },
     "execution_count": 49,
     "metadata": {},
     "output_type": "execute_result"
    }
   ],
   "source": [
    "df.groupby(['term_deposit_subscribed','default']).size()"
   ]
  },
  {
   "cell_type": "code",
   "execution_count": 50,
   "id": "572076a8",
   "metadata": {},
   "outputs": [],
   "source": [
    "df.drop(['default'],axis=1, inplace=True)"
   ]
  },
  {
   "cell_type": "code",
   "execution_count": 51,
   "id": "a055d5f9",
   "metadata": {},
   "outputs": [
    {
     "data": {
      "text/plain": [
       "customer_age\n",
       "18.0     37\n",
       "19.0     27\n",
       "20.0     46\n",
       "21.0     56\n",
       "22.0    113\n",
       "       ... \n",
       "88.0      2\n",
       "89.0      1\n",
       "91.0      1\n",
       "92.0      1\n",
       "93.0      1\n",
       "Name: customer_age, Length: 76, dtype: int64"
      ]
     },
     "execution_count": 51,
     "metadata": {},
     "output_type": "execute_result"
    }
   ],
   "source": [
    "df.groupby('customer_age',sort=True)['customer_age'].count()"
   ]
  },
  {
   "cell_type": "markdown",
   "id": "6160c897",
   "metadata": {},
   "source": [
    "#### Insight-<br>\n",
    "\n",
    "customer_age lies between 18 to 93 years"
   ]
  },
  {
   "cell_type": "code",
   "execution_count": 52,
   "id": "8b6d6608",
   "metadata": {},
   "outputs": [
    {
     "data": {
      "text/plain": [
       "term_deposit_subscribed  last_contact_duration\n",
       "0                        661                      1\n",
       "                         662                      2\n",
       "                         663                      2\n",
       "                         664                      5\n",
       "                         665                      1\n",
       "                                                 ..\n",
       "1                        1012                     8\n",
       "                         1013                     3\n",
       "                         1014                     4\n",
       "                         1015                     3\n",
       "                         1018                     2\n",
       "Name: last_contact_duration, Length: 585, dtype: int64"
      ]
     },
     "execution_count": 52,
     "metadata": {},
     "output_type": "execute_result"
    }
   ],
   "source": [
    "df.groupby(['term_deposit_subscribed','last_contact_duration'],sort=True)['last_contact_duration'].count()"
   ]
  },
  {
   "cell_type": "markdown",
   "id": "b2baa8d0",
   "metadata": {},
   "source": [
    "#### Insight-<br>\n",
    "\n",
    "These outliers should not be removed because as duration goes high, clients show high interest on term deposit"
   ]
  },
  {
   "cell_type": "code",
   "execution_count": 53,
   "id": "90e74437",
   "metadata": {},
   "outputs": [
    {
     "data": {
      "text/plain": [
       "term_deposit_subscribed  num_contacts_in_campaign\n",
       "0                        1.0                         8092\n",
       "                         2.0                         5890\n",
       "                         3.0                         2622\n",
       "                         4.0                         1687\n",
       "                         5.0                          870\n",
       "                                                     ... \n",
       "1                        15.0                           3\n",
       "                         16.0                           1\n",
       "                         17.0                           2\n",
       "                         20.0                           1\n",
       "                         21.0                           1\n",
       "Name: num_contacts_in_campaign, Length: 63, dtype: int64"
      ]
     },
     "execution_count": 53,
     "metadata": {},
     "output_type": "execute_result"
    }
   ],
   "source": [
    "df.groupby(['term_deposit_subscribed','num_contacts_in_campaign'],sort=True)['num_contacts_in_campaign'].count()"
   ]
  },
  {
   "cell_type": "code",
   "execution_count": 54,
   "id": "8f056ff6",
   "metadata": {},
   "outputs": [],
   "source": [
    "df3 = df[df['num_contacts_in_campaign'] < 22]"
   ]
  },
  {
   "cell_type": "code",
   "execution_count": 55,
   "id": "29547b2d",
   "metadata": {},
   "outputs": [
    {
     "data": {
      "text/plain": [
       "term_deposit_subscribed  num_contacts_in_campaign\n",
       "0                        1.0                         8092\n",
       "                         2.0                         5890\n",
       "                         3.0                         2622\n",
       "                         4.0                         1687\n",
       "                         5.0                          870\n",
       "                         6.0                          621\n",
       "                         7.0                          371\n",
       "                         8.0                          268\n",
       "                         9.0                          165\n",
       "                         10.0                         141\n",
       "                         11.0                          97\n",
       "                         12.0                          78\n",
       "                         13.0                          76\n",
       "                         14.0                          43\n",
       "                         15.0                          46\n",
       "                         16.0                          38\n",
       "                         17.0                          35\n",
       "                         18.0                          29\n",
       "                         19.0                          23\n",
       "                         20.0                          26\n",
       "                         21.0                          12\n",
       "1                        1.0                         1215\n",
       "                         2.0                          687\n",
       "                         3.0                          318\n",
       "                         4.0                          140\n",
       "                         5.0                           66\n",
       "                         6.0                           33\n",
       "                         7.0                           23\n",
       "                         8.0                           14\n",
       "                         9.0                           10\n",
       "                         10.0                           6\n",
       "                         11.0                          10\n",
       "                         12.0                           1\n",
       "                         13.0                           4\n",
       "                         14.0                           1\n",
       "                         15.0                           3\n",
       "                         16.0                           1\n",
       "                         17.0                           2\n",
       "                         20.0                           1\n",
       "                         21.0                           1\n",
       "Name: num_contacts_in_campaign, dtype: int64"
      ]
     },
     "execution_count": 55,
     "metadata": {},
     "output_type": "execute_result"
    }
   ],
   "source": [
    "df3.groupby(['term_deposit_subscribed','num_contacts_in_campaign'],sort=True)['num_contacts_in_campaign'].count()"
   ]
  },
  {
   "cell_type": "code",
   "execution_count": 56,
   "id": "6c367bd6",
   "metadata": {},
   "outputs": [
    {
     "data": {
      "text/plain": [
       "term_deposit_subscribed  num_contacts_prev_campaign\n",
       "0                        0                             17828\n",
       "                         1                              1166\n",
       "                         2                               900\n",
       "                         3                               451\n",
       "                         4                               304\n",
       "                         5                               178\n",
       "                         6                                97\n",
       "                         7                                78\n",
       "                         8                                48\n",
       "                         9                                31\n",
       "                         10                               25\n",
       "                         11                               23\n",
       "                         12                               18\n",
       "                         13                               15\n",
       "                         14                                9\n",
       "                         15                                7\n",
       "                         16                                4\n",
       "                         17                                6\n",
       "                         18                                4\n",
       "                         19                                4\n",
       "                         20                                5\n",
       "                         22                                4\n",
       "                         23                                4\n",
       "                         24                                4\n",
       "                         25                                3\n",
       "                         26                                1\n",
       "                         27                                4\n",
       "                         28                                1\n",
       "                         30                                1\n",
       "                         32                                1\n",
       "                         37                                2\n",
       "                         38                                1\n",
       "                         41                                1\n",
       "                         51                                1\n",
       "                         275                               1\n",
       "1                        0                              1569\n",
       "                         1                               302\n",
       "                         2                               235\n",
       "                         3                               154\n",
       "                         4                                82\n",
       "                         5                                60\n",
       "                         6                                39\n",
       "                         7                                25\n",
       "                         8                                17\n",
       "                         9                                10\n",
       "                         10                               11\n",
       "                         11                               10\n",
       "                         12                                6\n",
       "                         13                                5\n",
       "                         14                                3\n",
       "                         17                                2\n",
       "                         21                                1\n",
       "                         22                                1\n",
       "                         23                                1\n",
       "                         29                                1\n",
       "                         30                                1\n",
       "                         58                                1\n",
       "Name: num_contacts_prev_campaign, dtype: int64"
      ]
     },
     "execution_count": 56,
     "metadata": {},
     "output_type": "execute_result"
    }
   ],
   "source": [
    "df3.groupby(['term_deposit_subscribed','num_contacts_prev_campaign'],sort=True)['num_contacts_prev_campaign'].count()"
   ]
  },
  {
   "cell_type": "code",
   "execution_count": 57,
   "id": "ca938912",
   "metadata": {},
   "outputs": [],
   "source": [
    "df4 = df3[df3['num_contacts_prev_campaign'] < 38]"
   ]
  },
  {
   "cell_type": "code",
   "execution_count": 58,
   "id": "d17fb19e",
   "metadata": {},
   "outputs": [
    {
     "data": {
      "text/html": [
       "<div>\n",
       "<style scoped>\n",
       "    .dataframe tbody tr th:only-of-type {\n",
       "        vertical-align: middle;\n",
       "    }\n",
       "\n",
       "    .dataframe tbody tr th {\n",
       "        vertical-align: top;\n",
       "    }\n",
       "\n",
       "    .dataframe thead th {\n",
       "        text-align: right;\n",
       "    }\n",
       "</style>\n",
       "<table border=\"1\" class=\"dataframe\">\n",
       "  <thead>\n",
       "    <tr style=\"text-align: right;\">\n",
       "      <th></th>\n",
       "      <th>customer_id</th>\n",
       "      <th>customer_age</th>\n",
       "      <th>job_type</th>\n",
       "      <th>marital</th>\n",
       "      <th>education</th>\n",
       "      <th>balance</th>\n",
       "      <th>housing_loan</th>\n",
       "      <th>personal_loan</th>\n",
       "      <th>communication_type</th>\n",
       "      <th>day_of_month</th>\n",
       "      <th>month</th>\n",
       "      <th>last_contact_duration</th>\n",
       "      <th>num_contacts_in_campaign</th>\n",
       "      <th>num_contacts_prev_campaign</th>\n",
       "      <th>prev_campaign_outcome</th>\n",
       "      <th>term_deposit_subscribed</th>\n",
       "    </tr>\n",
       "  </thead>\n",
       "  <tbody>\n",
       "    <tr>\n",
       "      <th>0</th>\n",
       "      <td>id_32289</td>\n",
       "      <td>34.0</td>\n",
       "      <td>blue-collar</td>\n",
       "      <td>married</td>\n",
       "      <td>secondary</td>\n",
       "      <td>934.0</td>\n",
       "      <td>no</td>\n",
       "      <td>yes</td>\n",
       "      <td>cellular</td>\n",
       "      <td>18</td>\n",
       "      <td>nov</td>\n",
       "      <td>704</td>\n",
       "      <td>2.0</td>\n",
       "      <td>1</td>\n",
       "      <td>other</td>\n",
       "      <td>0</td>\n",
       "    </tr>\n",
       "    <tr>\n",
       "      <th>1</th>\n",
       "      <td>id_40992</td>\n",
       "      <td>41.0</td>\n",
       "      <td>blue-collar</td>\n",
       "      <td>married</td>\n",
       "      <td>primary</td>\n",
       "      <td>1352.0</td>\n",
       "      <td>yes</td>\n",
       "      <td>no</td>\n",
       "      <td>cellular</td>\n",
       "      <td>13</td>\n",
       "      <td>may</td>\n",
       "      <td>893</td>\n",
       "      <td>2.0</td>\n",
       "      <td>0</td>\n",
       "      <td>unknown</td>\n",
       "      <td>0</td>\n",
       "    </tr>\n",
       "    <tr>\n",
       "      <th>2</th>\n",
       "      <td>id_41178</td>\n",
       "      <td>57.0</td>\n",
       "      <td>blue-collar</td>\n",
       "      <td>married</td>\n",
       "      <td>primary</td>\n",
       "      <td>495.0</td>\n",
       "      <td>no</td>\n",
       "      <td>no</td>\n",
       "      <td>cellular</td>\n",
       "      <td>18</td>\n",
       "      <td>aug</td>\n",
       "      <td>796</td>\n",
       "      <td>4.0</td>\n",
       "      <td>0</td>\n",
       "      <td>unknown</td>\n",
       "      <td>1</td>\n",
       "    </tr>\n",
       "    <tr>\n",
       "      <th>3</th>\n",
       "      <td>id_35102</td>\n",
       "      <td>37.0</td>\n",
       "      <td>management</td>\n",
       "      <td>married</td>\n",
       "      <td>tertiary</td>\n",
       "      <td>650.0</td>\n",
       "      <td>yes</td>\n",
       "      <td>no</td>\n",
       "      <td>unknown</td>\n",
       "      <td>26</td>\n",
       "      <td>may</td>\n",
       "      <td>880</td>\n",
       "      <td>1.0</td>\n",
       "      <td>0</td>\n",
       "      <td>unknown</td>\n",
       "      <td>0</td>\n",
       "    </tr>\n",
       "    <tr>\n",
       "      <th>4</th>\n",
       "      <td>id_34750</td>\n",
       "      <td>29.0</td>\n",
       "      <td>technician</td>\n",
       "      <td>married</td>\n",
       "      <td>secondary</td>\n",
       "      <td>265.0</td>\n",
       "      <td>yes</td>\n",
       "      <td>no</td>\n",
       "      <td>cellular</td>\n",
       "      <td>19</td>\n",
       "      <td>aug</td>\n",
       "      <td>795</td>\n",
       "      <td>2.0</td>\n",
       "      <td>0</td>\n",
       "      <td>unknown</td>\n",
       "      <td>0</td>\n",
       "    </tr>\n",
       "    <tr>\n",
       "      <th>...</th>\n",
       "      <td>...</td>\n",
       "      <td>...</td>\n",
       "      <td>...</td>\n",
       "      <td>...</td>\n",
       "      <td>...</td>\n",
       "      <td>...</td>\n",
       "      <td>...</td>\n",
       "      <td>...</td>\n",
       "      <td>...</td>\n",
       "      <td>...</td>\n",
       "      <td>...</td>\n",
       "      <td>...</td>\n",
       "      <td>...</td>\n",
       "      <td>...</td>\n",
       "      <td>...</td>\n",
       "      <td>...</td>\n",
       "    </tr>\n",
       "    <tr>\n",
       "      <th>23875</th>\n",
       "      <td>id_27290</td>\n",
       "      <td>58.0</td>\n",
       "      <td>admin.</td>\n",
       "      <td>married</td>\n",
       "      <td>secondary</td>\n",
       "      <td>567.0</td>\n",
       "      <td>yes</td>\n",
       "      <td>no</td>\n",
       "      <td>cellular</td>\n",
       "      <td>2</td>\n",
       "      <td>feb</td>\n",
       "      <td>993</td>\n",
       "      <td>2.0</td>\n",
       "      <td>3</td>\n",
       "      <td>other</td>\n",
       "      <td>0</td>\n",
       "    </tr>\n",
       "    <tr>\n",
       "      <th>23876</th>\n",
       "      <td>id_20428</td>\n",
       "      <td>51.0</td>\n",
       "      <td>management</td>\n",
       "      <td>married</td>\n",
       "      <td>tertiary</td>\n",
       "      <td>1072.0</td>\n",
       "      <td>no</td>\n",
       "      <td>no</td>\n",
       "      <td>unknown</td>\n",
       "      <td>20</td>\n",
       "      <td>jun</td>\n",
       "      <td>855</td>\n",
       "      <td>7.0</td>\n",
       "      <td>0</td>\n",
       "      <td>unknown</td>\n",
       "      <td>0</td>\n",
       "    </tr>\n",
       "    <tr>\n",
       "      <th>23877</th>\n",
       "      <td>id_44679</td>\n",
       "      <td>41.0</td>\n",
       "      <td>unemployed</td>\n",
       "      <td>married</td>\n",
       "      <td>primary</td>\n",
       "      <td>242.0</td>\n",
       "      <td>yes</td>\n",
       "      <td>no</td>\n",
       "      <td>unknown</td>\n",
       "      <td>23</td>\n",
       "      <td>may</td>\n",
       "      <td>883</td>\n",
       "      <td>2.0</td>\n",
       "      <td>0</td>\n",
       "      <td>unknown</td>\n",
       "      <td>0</td>\n",
       "    </tr>\n",
       "    <tr>\n",
       "      <th>23878</th>\n",
       "      <td>id_4841</td>\n",
       "      <td>48.0</td>\n",
       "      <td>services</td>\n",
       "      <td>married</td>\n",
       "      <td>secondary</td>\n",
       "      <td>2699.0</td>\n",
       "      <td>no</td>\n",
       "      <td>no</td>\n",
       "      <td>cellular</td>\n",
       "      <td>11</td>\n",
       "      <td>aug</td>\n",
       "      <td>803</td>\n",
       "      <td>6.0</td>\n",
       "      <td>0</td>\n",
       "      <td>unknown</td>\n",
       "      <td>0</td>\n",
       "    </tr>\n",
       "    <tr>\n",
       "      <th>23879</th>\n",
       "      <td>id_1723</td>\n",
       "      <td>38.0</td>\n",
       "      <td>technician</td>\n",
       "      <td>single</td>\n",
       "      <td>tertiary</td>\n",
       "      <td>1045.0</td>\n",
       "      <td>no</td>\n",
       "      <td>no</td>\n",
       "      <td>cellular</td>\n",
       "      <td>18</td>\n",
       "      <td>aug</td>\n",
       "      <td>796</td>\n",
       "      <td>10.0</td>\n",
       "      <td>0</td>\n",
       "      <td>unknown</td>\n",
       "      <td>0</td>\n",
       "    </tr>\n",
       "  </tbody>\n",
       "</table>\n",
       "<p>23761 rows × 16 columns</p>\n",
       "</div>"
      ],
      "text/plain": [
       "      customer_id  customer_age     job_type  marital  education  balance  \\\n",
       "0        id_32289          34.0  blue-collar  married  secondary    934.0   \n",
       "1        id_40992          41.0  blue-collar  married    primary   1352.0   \n",
       "2        id_41178          57.0  blue-collar  married    primary    495.0   \n",
       "3        id_35102          37.0   management  married   tertiary    650.0   \n",
       "4        id_34750          29.0   technician  married  secondary    265.0   \n",
       "...           ...           ...          ...      ...        ...      ...   \n",
       "23875    id_27290          58.0       admin.  married  secondary    567.0   \n",
       "23876    id_20428          51.0   management  married   tertiary   1072.0   \n",
       "23877    id_44679          41.0   unemployed  married    primary    242.0   \n",
       "23878     id_4841          48.0     services  married  secondary   2699.0   \n",
       "23879     id_1723          38.0   technician   single   tertiary   1045.0   \n",
       "\n",
       "      housing_loan personal_loan communication_type  day_of_month month  \\\n",
       "0               no           yes           cellular            18   nov   \n",
       "1              yes            no           cellular            13   may   \n",
       "2               no            no           cellular            18   aug   \n",
       "3              yes            no            unknown            26   may   \n",
       "4              yes            no           cellular            19   aug   \n",
       "...            ...           ...                ...           ...   ...   \n",
       "23875          yes            no           cellular             2   feb   \n",
       "23876           no            no            unknown            20   jun   \n",
       "23877          yes            no            unknown            23   may   \n",
       "23878           no            no           cellular            11   aug   \n",
       "23879           no            no           cellular            18   aug   \n",
       "\n",
       "       last_contact_duration  num_contacts_in_campaign  \\\n",
       "0                        704                       2.0   \n",
       "1                        893                       2.0   \n",
       "2                        796                       4.0   \n",
       "3                        880                       1.0   \n",
       "4                        795                       2.0   \n",
       "...                      ...                       ...   \n",
       "23875                    993                       2.0   \n",
       "23876                    855                       7.0   \n",
       "23877                    883                       2.0   \n",
       "23878                    803                       6.0   \n",
       "23879                    796                      10.0   \n",
       "\n",
       "       num_contacts_prev_campaign prev_campaign_outcome  \\\n",
       "0                               1                 other   \n",
       "1                               0               unknown   \n",
       "2                               0               unknown   \n",
       "3                               0               unknown   \n",
       "4                               0               unknown   \n",
       "...                           ...                   ...   \n",
       "23875                           3                 other   \n",
       "23876                           0               unknown   \n",
       "23877                           0               unknown   \n",
       "23878                           0               unknown   \n",
       "23879                           0               unknown   \n",
       "\n",
       "       term_deposit_subscribed  \n",
       "0                            0  \n",
       "1                            0  \n",
       "2                            1  \n",
       "3                            0  \n",
       "4                            0  \n",
       "...                        ...  \n",
       "23875                        0  \n",
       "23876                        0  \n",
       "23877                        0  \n",
       "23878                        0  \n",
       "23879                        0  \n",
       "\n",
       "[23761 rows x 16 columns]"
      ]
     },
     "execution_count": 58,
     "metadata": {},
     "output_type": "execute_result"
    }
   ],
   "source": [
    "df4"
   ]
  },
  {
   "cell_type": "markdown",
   "id": "5fbbef56",
   "metadata": {},
   "source": [
    "## 3. Data Preparation for Model Building"
   ]
  },
  {
   "cell_type": "code",
   "execution_count": 59,
   "id": "8184b5c3",
   "metadata": {},
   "outputs": [
    {
     "name": "stderr",
     "output_type": "stream",
     "text": [
      "C:\\Users\\hp\\AppData\\Local\\Temp/ipykernel_224/2448335846.py:2: FutureWarning: In a future version of pandas all arguments of DataFrame.drop except for the argument 'labels' will be keyword-only\n",
      "  train2 = train1.drop('term_deposit_subscribed',1)\n"
     ]
    }
   ],
   "source": [
    "target = train1['term_deposit_subscribed']\n",
    "train2 = train1.drop('term_deposit_subscribed',1)"
   ]
  },
  {
   "cell_type": "code",
   "execution_count": 60,
   "id": "fde01053",
   "metadata": {},
   "outputs": [],
   "source": [
    "train3 = train2[['customer_age', 'job_type', 'marital', 'education',\n",
    "        'balance', 'housing_loan', 'personal_loan',\n",
    "       'communication_type', 'last_contact_duration',\n",
    "       'num_contacts_in_campaign', 'num_contacts_prev_campaign',\n",
    "       'prev_campaign_outcome']]"
   ]
  },
  {
   "cell_type": "code",
   "execution_count": 61,
   "id": "23b6acf0",
   "metadata": {},
   "outputs": [
    {
     "name": "stderr",
     "output_type": "stream",
     "text": [
      "C:\\Users\\hp\\AppData\\Local\\Temp/ipykernel_224/2975720929.py:3: SettingWithCopyWarning: \n",
      "A value is trying to be set on a copy of a slice from a DataFrame.\n",
      "Try using .loc[row_indexer,col_indexer] = value instead\n",
      "\n",
      "See the caveats in the documentation: https://pandas.pydata.org/pandas-docs/stable/user_guide/indexing.html#returning-a-view-versus-a-copy\n",
      "  train3[col+'_new']=train3[col].apply(lambda x : 1 if x == 'yes' else 0)\n",
      "C:\\Users\\hp\\anaconda3\\lib\\site-packages\\pandas\\core\\frame.py:4906: SettingWithCopyWarning: \n",
      "A value is trying to be set on a copy of a slice from a DataFrame\n",
      "\n",
      "See the caveats in the documentation: https://pandas.pydata.org/pandas-docs/stable/user_guide/indexing.html#returning-a-view-versus-a-copy\n",
      "  return super().drop(\n"
     ]
    }
   ],
   "source": [
    "bool_columns = ['housing_loan', 'personal_loan']\n",
    "for col in  bool_columns:\n",
    "    train3[col+'_new']=train3[col].apply(lambda x : 1 if x == 'yes' else 0)\n",
    "    train3.drop(col, axis=1, inplace=True)"
   ]
  },
  {
   "cell_type": "code",
   "execution_count": 62,
   "id": "84e45b07",
   "metadata": {},
   "outputs": [],
   "source": [
    "train4 = pd.get_dummies(train3)"
   ]
  },
  {
   "cell_type": "code",
   "execution_count": 63,
   "id": "6f7fad56",
   "metadata": {},
   "outputs": [
    {
     "data": {
      "text/plain": [
       "(23880, 33)"
      ]
     },
     "execution_count": 63,
     "metadata": {},
     "output_type": "execute_result"
    }
   ],
   "source": [
    "train4.shape"
   ]
  },
  {
   "cell_type": "code",
   "execution_count": 64,
   "id": "0ca0737b",
   "metadata": {},
   "outputs": [],
   "source": [
    "test1 = test[['customer_age', 'job_type', 'marital', 'education',\n",
    "        'balance', 'housing_loan', 'personal_loan',\n",
    "       'communication_type', 'last_contact_duration',\n",
    "       'num_contacts_in_campaign', 'num_contacts_prev_campaign',\n",
    "       'prev_campaign_outcome']]"
   ]
  },
  {
   "cell_type": "code",
   "execution_count": 65,
   "id": "ac2b7f32",
   "metadata": {},
   "outputs": [
    {
     "name": "stderr",
     "output_type": "stream",
     "text": [
      "C:\\Users\\hp\\AppData\\Local\\Temp/ipykernel_224/2056737527.py:3: SettingWithCopyWarning: \n",
      "A value is trying to be set on a copy of a slice from a DataFrame.\n",
      "Try using .loc[row_indexer,col_indexer] = value instead\n",
      "\n",
      "See the caveats in the documentation: https://pandas.pydata.org/pandas-docs/stable/user_guide/indexing.html#returning-a-view-versus-a-copy\n",
      "  test1[col+'_new']=test1[col].apply(lambda x : 1 if x == 'yes' else 0)\n"
     ]
    }
   ],
   "source": [
    "bool_columns1 = ['housing_loan', 'personal_loan']\n",
    "for col in  bool_columns1:\n",
    "    test1[col+'_new']=test1[col].apply(lambda x : 1 if x == 'yes' else 0)\n",
    "    test1.drop(col, axis=1, inplace=True)"
   ]
  },
  {
   "cell_type": "code",
   "execution_count": 66,
   "id": "5810def1",
   "metadata": {},
   "outputs": [],
   "source": [
    "test2 = pd.get_dummies(test1)"
   ]
  },
  {
   "cell_type": "code",
   "execution_count": 67,
   "id": "47d8ca80",
   "metadata": {},
   "outputs": [
    {
     "data": {
      "text/html": [
       "<div>\n",
       "<style scoped>\n",
       "    .dataframe tbody tr th:only-of-type {\n",
       "        vertical-align: middle;\n",
       "    }\n",
       "\n",
       "    .dataframe tbody tr th {\n",
       "        vertical-align: top;\n",
       "    }\n",
       "\n",
       "    .dataframe thead th {\n",
       "        text-align: right;\n",
       "    }\n",
       "</style>\n",
       "<table border=\"1\" class=\"dataframe\">\n",
       "  <thead>\n",
       "    <tr style=\"text-align: right;\">\n",
       "      <th></th>\n",
       "      <th>customer_age</th>\n",
       "      <th>balance</th>\n",
       "      <th>last_contact_duration</th>\n",
       "      <th>num_contacts_in_campaign</th>\n",
       "      <th>num_contacts_prev_campaign</th>\n",
       "      <th>housing_loan_new</th>\n",
       "      <th>personal_loan_new</th>\n",
       "      <th>job_type_admin.</th>\n",
       "      <th>job_type_blue-collar</th>\n",
       "      <th>job_type_entrepreneur</th>\n",
       "      <th>...</th>\n",
       "      <th>education_secondary</th>\n",
       "      <th>education_tertiary</th>\n",
       "      <th>education_unknown</th>\n",
       "      <th>communication_type_cellular</th>\n",
       "      <th>communication_type_telephone</th>\n",
       "      <th>communication_type_unknown</th>\n",
       "      <th>prev_campaign_outcome_failure</th>\n",
       "      <th>prev_campaign_outcome_other</th>\n",
       "      <th>prev_campaign_outcome_success</th>\n",
       "      <th>prev_campaign_outcome_unknown</th>\n",
       "    </tr>\n",
       "  </thead>\n",
       "  <tbody>\n",
       "    <tr>\n",
       "      <th>0</th>\n",
       "      <td>28.0</td>\n",
       "      <td>285.0</td>\n",
       "      <td>849</td>\n",
       "      <td>4.0</td>\n",
       "      <td>0</td>\n",
       "      <td>1</td>\n",
       "      <td>0</td>\n",
       "      <td>0</td>\n",
       "      <td>0</td>\n",
       "      <td>0</td>\n",
       "      <td>...</td>\n",
       "      <td>0</td>\n",
       "      <td>1</td>\n",
       "      <td>0</td>\n",
       "      <td>0</td>\n",
       "      <td>0</td>\n",
       "      <td>1</td>\n",
       "      <td>0</td>\n",
       "      <td>0</td>\n",
       "      <td>0</td>\n",
       "      <td>1</td>\n",
       "    </tr>\n",
       "    <tr>\n",
       "      <th>1</th>\n",
       "      <td>46.0</td>\n",
       "      <td>656.0</td>\n",
       "      <td>990</td>\n",
       "      <td>4.0</td>\n",
       "      <td>0</td>\n",
       "      <td>0</td>\n",
       "      <td>0</td>\n",
       "      <td>0</td>\n",
       "      <td>0</td>\n",
       "      <td>0</td>\n",
       "      <td>...</td>\n",
       "      <td>1</td>\n",
       "      <td>0</td>\n",
       "      <td>0</td>\n",
       "      <td>1</td>\n",
       "      <td>0</td>\n",
       "      <td>0</td>\n",
       "      <td>0</td>\n",
       "      <td>0</td>\n",
       "      <td>0</td>\n",
       "      <td>1</td>\n",
       "    </tr>\n",
       "    <tr>\n",
       "      <th>2</th>\n",
       "      <td>34.0</td>\n",
       "      <td>2.0</td>\n",
       "      <td>886</td>\n",
       "      <td>3.0</td>\n",
       "      <td>0</td>\n",
       "      <td>1</td>\n",
       "      <td>0</td>\n",
       "      <td>0</td>\n",
       "      <td>0</td>\n",
       "      <td>0</td>\n",
       "      <td>...</td>\n",
       "      <td>1</td>\n",
       "      <td>0</td>\n",
       "      <td>0</td>\n",
       "      <td>0</td>\n",
       "      <td>0</td>\n",
       "      <td>1</td>\n",
       "      <td>0</td>\n",
       "      <td>0</td>\n",
       "      <td>0</td>\n",
       "      <td>1</td>\n",
       "    </tr>\n",
       "    <tr>\n",
       "      <th>3</th>\n",
       "      <td>65.0</td>\n",
       "      <td>2880.0</td>\n",
       "      <td>913</td>\n",
       "      <td>1.0</td>\n",
       "      <td>0</td>\n",
       "      <td>0</td>\n",
       "      <td>0</td>\n",
       "      <td>0</td>\n",
       "      <td>0</td>\n",
       "      <td>0</td>\n",
       "      <td>...</td>\n",
       "      <td>0</td>\n",
       "      <td>0</td>\n",
       "      <td>0</td>\n",
       "      <td>1</td>\n",
       "      <td>0</td>\n",
       "      <td>0</td>\n",
       "      <td>0</td>\n",
       "      <td>0</td>\n",
       "      <td>0</td>\n",
       "      <td>1</td>\n",
       "    </tr>\n",
       "    <tr>\n",
       "      <th>4</th>\n",
       "      <td>52.0</td>\n",
       "      <td>1779.0</td>\n",
       "      <td>703</td>\n",
       "      <td>3.0</td>\n",
       "      <td>1</td>\n",
       "      <td>0</td>\n",
       "      <td>0</td>\n",
       "      <td>0</td>\n",
       "      <td>1</td>\n",
       "      <td>0</td>\n",
       "      <td>...</td>\n",
       "      <td>0</td>\n",
       "      <td>1</td>\n",
       "      <td>0</td>\n",
       "      <td>1</td>\n",
       "      <td>0</td>\n",
       "      <td>0</td>\n",
       "      <td>1</td>\n",
       "      <td>0</td>\n",
       "      <td>0</td>\n",
       "      <td>0</td>\n",
       "    </tr>\n",
       "  </tbody>\n",
       "</table>\n",
       "<p>5 rows × 33 columns</p>\n",
       "</div>"
      ],
      "text/plain": [
       "   customer_age  balance  last_contact_duration  num_contacts_in_campaign  \\\n",
       "0          28.0    285.0                    849                       4.0   \n",
       "1          46.0    656.0                    990                       4.0   \n",
       "2          34.0      2.0                    886                       3.0   \n",
       "3          65.0   2880.0                    913                       1.0   \n",
       "4          52.0   1779.0                    703                       3.0   \n",
       "\n",
       "   num_contacts_prev_campaign  housing_loan_new  personal_loan_new  \\\n",
       "0                           0                 1                  0   \n",
       "1                           0                 0                  0   \n",
       "2                           0                 1                  0   \n",
       "3                           0                 0                  0   \n",
       "4                           1                 0                  0   \n",
       "\n",
       "   job_type_admin.  job_type_blue-collar  job_type_entrepreneur  ...  \\\n",
       "0                0                     0                      0  ...   \n",
       "1                0                     0                      0  ...   \n",
       "2                0                     0                      0  ...   \n",
       "3                0                     0                      0  ...   \n",
       "4                0                     1                      0  ...   \n",
       "\n",
       "   education_secondary  education_tertiary  education_unknown  \\\n",
       "0                    0                   1                  0   \n",
       "1                    1                   0                  0   \n",
       "2                    1                   0                  0   \n",
       "3                    0                   0                  0   \n",
       "4                    0                   1                  0   \n",
       "\n",
       "   communication_type_cellular  communication_type_telephone  \\\n",
       "0                            0                             0   \n",
       "1                            1                             0   \n",
       "2                            0                             0   \n",
       "3                            1                             0   \n",
       "4                            1                             0   \n",
       "\n",
       "   communication_type_unknown  prev_campaign_outcome_failure  \\\n",
       "0                           1                              0   \n",
       "1                           0                              0   \n",
       "2                           1                              0   \n",
       "3                           0                              0   \n",
       "4                           0                              1   \n",
       "\n",
       "   prev_campaign_outcome_other  prev_campaign_outcome_success  \\\n",
       "0                            0                              0   \n",
       "1                            0                              0   \n",
       "2                            0                              0   \n",
       "3                            0                              0   \n",
       "4                            0                              0   \n",
       "\n",
       "   prev_campaign_outcome_unknown  \n",
       "0                              1  \n",
       "1                              1  \n",
       "2                              1  \n",
       "3                              1  \n",
       "4                              0  \n",
       "\n",
       "[5 rows x 33 columns]"
      ]
     },
     "execution_count": 67,
     "metadata": {},
     "output_type": "execute_result"
    }
   ],
   "source": [
    "test2.head()"
   ]
  },
  {
   "cell_type": "markdown",
   "id": "8cce8ce4",
   "metadata": {},
   "source": [
    "### 3.1 Oversampling of the Training Data Using SMOTE"
   ]
  },
  {
   "cell_type": "markdown",
   "id": "da1a250d",
   "metadata": {},
   "source": [
    "#### Oversampling means duplicating samples from the minority class. Since only 10.6% of the clients have subscribed to term deposit in the given data, there is a need of oversampling of the data to get more accurate results. "
   ]
  },
  {
   "cell_type": "code",
   "execution_count": 68,
   "id": "e41ea0f1",
   "metadata": {},
   "outputs": [],
   "source": [
    "import warnings\n",
    "warnings.filterwarnings('ignore')\n",
    "warnings.simplefilter('ignore')"
   ]
  },
  {
   "cell_type": "code",
   "execution_count": 69,
   "id": "99cc52bf",
   "metadata": {},
   "outputs": [],
   "source": [
    "from pprint import pprint as pp\n",
    "import csv\n",
    "from pathlib import Path\n",
    "from itertools import product\n",
    "import string\n",
    "\n",
    "from imblearn.over_sampling import SMOTE\n",
    "from imblearn.over_sampling import BorderlineSMOTE\n",
    "from imblearn.pipeline import Pipeline \n",
    "\n",
    "from sklearn.linear_model import LinearRegression, LogisticRegression\n",
    "from sklearn.model_selection import train_test_split, GridSearchCV\n",
    "from sklearn.tree import DecisionTreeClassifier\n",
    "from sklearn.metrics import r2_score, classification_report, confusion_matrix, accuracy_score, roc_auc_score, roc_curve, precision_recall_curve, average_precision_score\n",
    "from sklearn.metrics import homogeneity_score, silhouette_score\n",
    "from sklearn.ensemble import RandomForestClassifier, VotingClassifier\n",
    "from sklearn.preprocessing import MinMaxScaler\n",
    "from sklearn.cluster import MiniBatchKMeans, DBSCAN"
   ]
  },
  {
   "cell_type": "code",
   "execution_count": 70,
   "id": "4e6e7cae",
   "metadata": {},
   "outputs": [],
   "source": [
    "X_train, X_val, y_train, y_val = train_test_split(train4, target, test_size = 0.2, random_state=12)"
   ]
  },
  {
   "cell_type": "code",
   "execution_count": 71,
   "id": "eb3147dc",
   "metadata": {},
   "outputs": [
    {
     "data": {
      "text/plain": [
       "(19104, 33)"
      ]
     },
     "execution_count": 71,
     "metadata": {},
     "output_type": "execute_result"
    }
   ],
   "source": [
    "X_train.shape"
   ]
  },
  {
   "cell_type": "code",
   "execution_count": 72,
   "id": "ff894131",
   "metadata": {},
   "outputs": [
    {
     "data": {
      "text/plain": [
       "(4776, 33)"
      ]
     },
     "execution_count": 72,
     "metadata": {},
     "output_type": "execute_result"
    }
   ],
   "source": [
    "X_val.shape"
   ]
  },
  {
   "cell_type": "code",
   "execution_count": 73,
   "id": "aa048640",
   "metadata": {},
   "outputs": [
    {
     "name": "stdout",
     "output_type": "stream",
     "text": [
      "Before OverSampling, counts of label '1': 2037\n",
      "Before OverSampling, counts of label '0': 17067 \n",
      "\n"
     ]
    }
   ],
   "source": [
    "print(\"Before OverSampling, counts of label '1': {}\".format(sum(y_train == 1)))\n",
    "print(\"Before OverSampling, counts of label '0': {} \\n\".format(sum(y_train == 0)))"
   ]
  },
  {
   "cell_type": "code",
   "execution_count": 74,
   "id": "997c73c4",
   "metadata": {},
   "outputs": [],
   "source": [
    "from imblearn.over_sampling import SMOTE\n",
    "sm = SMOTE(random_state = 2)\n",
    "X_train_res, y_train_res = sm.fit_sample(X_train, y_train.ravel())"
   ]
  },
  {
   "cell_type": "code",
   "execution_count": 75,
   "id": "e2ca55a0",
   "metadata": {},
   "outputs": [
    {
     "name": "stdout",
     "output_type": "stream",
     "text": [
      "After OverSampling, the shape of train_X: (34134, 33)\n",
      "After OverSampling, the shape of train_y: (34134,) \n",
      "\n"
     ]
    }
   ],
   "source": [
    "print('After OverSampling, the shape of train_X: {}'.format(X_train_res.shape))\n",
    "print('After OverSampling, the shape of train_y: {} \\n'.format(y_train_res.shape))"
   ]
  },
  {
   "cell_type": "code",
   "execution_count": 76,
   "id": "b2eb9976",
   "metadata": {},
   "outputs": [
    {
     "name": "stdout",
     "output_type": "stream",
     "text": [
      "After OverSampling, counts of label '1': 17067\n",
      "After OverSampling, counts of label '0': 17067\n"
     ]
    }
   ],
   "source": [
    "print(\"After OverSampling, counts of label '1': {}\".format(sum(y_train_res == 1)))\n",
    "print(\"After OverSampling, counts of label '0': {}\".format(sum(y_train_res == 0)))"
   ]
  },
  {
   "cell_type": "markdown",
   "id": "a91ca63b",
   "metadata": {},
   "source": [
    "## 4. Model Building"
   ]
  },
  {
   "cell_type": "markdown",
   "id": "9192ea29",
   "metadata": {},
   "source": [
    "### 4.1 Logistic Regression"
   ]
  },
  {
   "cell_type": "code",
   "execution_count": 77,
   "id": "bd97e553",
   "metadata": {},
   "outputs": [
    {
     "data": {
      "text/plain": [
       "LogisticRegression()"
      ]
     },
     "execution_count": 77,
     "metadata": {},
     "output_type": "execute_result"
    }
   ],
   "source": [
    "lr1 = LogisticRegression()\n",
    "lr1.fit(X_train_res, y_train_res.ravel())"
   ]
  },
  {
   "cell_type": "code",
   "execution_count": 78,
   "id": "21346d9a",
   "metadata": {},
   "outputs": [],
   "source": [
    "predictions = lr1.predict(X_val)"
   ]
  },
  {
   "cell_type": "code",
   "execution_count": 79,
   "id": "f40b11b6",
   "metadata": {},
   "outputs": [
    {
     "name": "stdout",
     "output_type": "stream",
     "text": [
      "              precision    recall  f1-score   support\n",
      "\n",
      "           0       0.93      0.85      0.89      4277\n",
      "           1       0.26      0.43      0.32       499\n",
      "\n",
      "    accuracy                           0.81      4776\n",
      "   macro avg       0.59      0.64      0.61      4776\n",
      "weighted avg       0.86      0.81      0.83      4776\n",
      "\n"
     ]
    }
   ],
   "source": [
    "print(classification_report(y_val, predictions))"
   ]
  },
  {
   "cell_type": "code",
   "execution_count": 80,
   "id": "f781d435",
   "metadata": {},
   "outputs": [],
   "source": [
    "LR_Result = lr1.predict(test2)"
   ]
  },
  {
   "cell_type": "code",
   "execution_count": 81,
   "id": "c32b816e",
   "metadata": {},
   "outputs": [
    {
     "name": "stdout",
     "output_type": "stream",
     "text": [
      "LR_Result, counts of label '1': 1378\n",
      "LR_Result, counts of label '0': 6389\n"
     ]
    }
   ],
   "source": [
    "print(\"LR_Result, counts of label '1': {}\".format(sum(LR_Result == 1)))\n",
    "print(\"LR_Result, counts of label '0': {}\".format(sum(LR_Result == 0)))"
   ]
  },
  {
   "cell_type": "code",
   "execution_count": 82,
   "id": "e538dba1",
   "metadata": {},
   "outputs": [
    {
     "name": "stdout",
     "output_type": "stream",
     "text": [
      "[0.73707339 0.8700747  0.87769152 0.89014208 0.86903018]\n",
      "0.8488023738151085\n"
     ]
    }
   ],
   "source": [
    "from sklearn.model_selection import cross_val_score\n",
    "model_score =cross_val_score(estimator=LogisticRegression(),X=X_train_res, y=y_train_res, cv=5)\n",
    "print(model_score)\n",
    "print(model_score.mean())"
   ]
  },
  {
   "cell_type": "code",
   "execution_count": 83,
   "id": "7e737fa0",
   "metadata": {},
   "outputs": [],
   "source": [
    "LR_result1 = pd.DataFrame(data = LR_Result, columns = ['predicted'])\n",
    "LR_result1.to_excel(r'C:\\Users\\hp\\Desktop\\EXL Case study\\results\\LR_results.xlsx')"
   ]
  },
  {
   "cell_type": "markdown",
   "id": "b87f9dde",
   "metadata": {},
   "source": [
    "### 4.2 Random Forest Classifier"
   ]
  },
  {
   "cell_type": "code",
   "execution_count": 84,
   "id": "95c999dc",
   "metadata": {},
   "outputs": [],
   "source": [
    "from sklearn.ensemble import RandomForestClassifier"
   ]
  },
  {
   "cell_type": "code",
   "execution_count": 85,
   "id": "117eabf8",
   "metadata": {},
   "outputs": [],
   "source": [
    "clf = RandomForestClassifier(n_estimators = 500)"
   ]
  },
  {
   "cell_type": "code",
   "execution_count": 86,
   "id": "1b8d7114",
   "metadata": {},
   "outputs": [
    {
     "data": {
      "text/plain": [
       "RandomForestClassifier(n_estimators=500)"
      ]
     },
     "execution_count": 86,
     "metadata": {},
     "output_type": "execute_result"
    }
   ],
   "source": [
    "clf.fit(X_train_res, y_train_res)"
   ]
  },
  {
   "cell_type": "code",
   "execution_count": 87,
   "id": "1dc9dcf9",
   "metadata": {},
   "outputs": [
    {
     "data": {
      "text/plain": [
       "array([0, 0, 1, ..., 0, 0, 0], dtype=int64)"
      ]
     },
     "execution_count": 87,
     "metadata": {},
     "output_type": "execute_result"
    }
   ],
   "source": [
    "y_pred_RF_smote = clf.predict(X_val)\n",
    "y_pred_RF_smote"
   ]
  },
  {
   "cell_type": "code",
   "execution_count": 88,
   "id": "269d95ea",
   "metadata": {},
   "outputs": [],
   "source": [
    "RF_result = clf.predict(test2)"
   ]
  },
  {
   "cell_type": "code",
   "execution_count": 89,
   "id": "6371be92",
   "metadata": {},
   "outputs": [
    {
     "name": "stdout",
     "output_type": "stream",
     "text": [
      "RF Result, counts of label '1': 364\n",
      "RF Result, counts of label '0': 7403\n"
     ]
    }
   ],
   "source": [
    "print(\"RF Result, counts of label '1': {}\".format(sum(RF_result == 1)))\n",
    "print(\"RF Result, counts of label '0': {}\".format(sum(RF_result == 0)))"
   ]
  },
  {
   "cell_type": "code",
   "execution_count": 90,
   "id": "5566b1fa",
   "metadata": {},
   "outputs": [],
   "source": [
    "RF_result1 = pd.DataFrame(data = RF_result, columns = ['predicted'])"
   ]
  },
  {
   "cell_type": "code",
   "execution_count": 91,
   "id": "6cc11810",
   "metadata": {},
   "outputs": [],
   "source": [
    "RF_result1.to_excel(r'C:\\Users\\hp\\Desktop\\EXL Case study\\results\\RF_results.xlsx')"
   ]
  },
  {
   "cell_type": "code",
   "execution_count": 92,
   "id": "fbc39f0d",
   "metadata": {},
   "outputs": [
    {
     "name": "stdout",
     "output_type": "stream",
     "text": [
      "[0.73516918 0.98447341 0.98271569 0.98418046 0.98036918]\n",
      "0.9333815839805677\n"
     ]
    }
   ],
   "source": [
    "from sklearn.model_selection import cross_val_score\n",
    "model_score =cross_val_score(estimator=RandomForestClassifier(),X=X_train_res, y=y_train_res, cv=5)\n",
    "print(model_score)\n",
    "print(model_score.mean())"
   ]
  },
  {
   "cell_type": "code",
   "execution_count": 93,
   "id": "b249b762",
   "metadata": {},
   "outputs": [],
   "source": [
    "importances = clf.feature_importances_"
   ]
  },
  {
   "cell_type": "code",
   "execution_count": 94,
   "id": "ac0dab43",
   "metadata": {},
   "outputs": [
    {
     "data": {
      "text/plain": [
       "array([0.05911931, 0.07075984, 0.08149975, 0.05531953, 0.02624923,\n",
       "       0.07955   , 0.02248553, 0.01466776, 0.0298907 , 0.0048567 ,\n",
       "       0.00526109, 0.02457829, 0.00492932, 0.00643711, 0.01288774,\n",
       "       0.0032598 , 0.0231889 , 0.00517308, 0.00142267, 0.0264148 ,\n",
       "       0.04076515, 0.0324146 , 0.02993493, 0.04020895, 0.03144567,\n",
       "       0.01116689, 0.01544634, 0.01075047, 0.05525665, 0.04354935,\n",
       "       0.01702003, 0.00515938, 0.10893046])"
      ]
     },
     "execution_count": 94,
     "metadata": {},
     "output_type": "execute_result"
    }
   ],
   "source": [
    "importances"
   ]
  },
  {
   "cell_type": "code",
   "execution_count": 95,
   "id": "9ebbdd52",
   "metadata": {},
   "outputs": [],
   "source": [
    "test2.to_excel(r'C:\\Users\\hp\\Desktop\\EXL Case study\\results\\test2.xlsx')"
   ]
  },
  {
   "cell_type": "markdown",
   "id": "b98a1fbf",
   "metadata": {},
   "source": [
    "### 4.3 XGBoost "
   ]
  },
  {
   "cell_type": "code",
   "execution_count": 96,
   "id": "dd9c58a3",
   "metadata": {},
   "outputs": [],
   "source": [
    "from xgboost import XGBClassifier"
   ]
  },
  {
   "cell_type": "code",
   "execution_count": 97,
   "id": "203aad82",
   "metadata": {},
   "outputs": [],
   "source": [
    "model_xgb = XGBClassifier(objective='binary:logistic',learning_rate=0.1,max_depth=10,n_estimators=100)"
   ]
  },
  {
   "cell_type": "code",
   "execution_count": 98,
   "id": "8c83c863",
   "metadata": {},
   "outputs": [
    {
     "name": "stdout",
     "output_type": "stream",
     "text": [
      "[19:26:46] WARNING: C:/Users/Administrator/workspace/xgboost-win64_release_1.5.1/src/learner.cc:1115: Starting in XGBoost 1.3.0, the default evaluation metric used with the objective 'binary:logistic' was changed from 'error' to 'logloss'. Explicitly set eval_metric if you'd like to restore the old behavior.\n"
     ]
    },
    {
     "data": {
      "text/plain": [
       "XGBClassifier(base_score=0.5, booster='gbtree', colsample_bylevel=1,\n",
       "              colsample_bynode=1, colsample_bytree=1, enable_categorical=False,\n",
       "              gamma=0, gpu_id=-1, importance_type=None,\n",
       "              interaction_constraints='', learning_rate=0.1, max_delta_step=0,\n",
       "              max_depth=10, min_child_weight=1, missing=nan,\n",
       "              monotone_constraints='()', n_estimators=100, n_jobs=4,\n",
       "              num_parallel_tree=1, predictor='auto', random_state=0,\n",
       "              reg_alpha=0, reg_lambda=1, scale_pos_weight=1, subsample=1,\n",
       "              tree_method='exact', validate_parameters=1, verbosity=None)"
      ]
     },
     "execution_count": 98,
     "metadata": {},
     "output_type": "execute_result"
    }
   ],
   "source": [
    "model_xgb.fit(X_train_res,y_train_res)"
   ]
  },
  {
   "cell_type": "code",
   "execution_count": 99,
   "id": "ea53724d",
   "metadata": {},
   "outputs": [
    {
     "data": {
      "text/plain": [
       "array([0, 0, 0, ..., 0, 0, 0], dtype=int64)"
      ]
     },
     "execution_count": 99,
     "metadata": {},
     "output_type": "execute_result"
    }
   ],
   "source": [
    "predict1 = model_xgb.predict(X_val)\n",
    "predict1"
   ]
  },
  {
   "cell_type": "code",
   "execution_count": 100,
   "id": "674ce223",
   "metadata": {},
   "outputs": [],
   "source": [
    "from sklearn.metrics import accuracy_score"
   ]
  },
  {
   "cell_type": "code",
   "execution_count": 101,
   "id": "a391ce3a",
   "metadata": {},
   "outputs": [
    {
     "data": {
      "text/plain": [
       "0.8967755443886097"
      ]
     },
     "execution_count": 101,
     "metadata": {},
     "output_type": "execute_result"
    }
   ],
   "source": [
    "accuracy_score(y_val,predict1)"
   ]
  },
  {
   "cell_type": "code",
   "execution_count": 102,
   "id": "b3cb8bfc",
   "metadata": {},
   "outputs": [
    {
     "data": {
      "text/plain": [
       "array([0, 0, 0, ..., 0, 0, 0], dtype=int64)"
      ]
     },
     "execution_count": 102,
     "metadata": {},
     "output_type": "execute_result"
    }
   ],
   "source": [
    "XGB_Result = model_xgb.predict(test2)\n",
    "XGB_Result"
   ]
  },
  {
   "cell_type": "code",
   "execution_count": 103,
   "id": "f1047b3b",
   "metadata": {},
   "outputs": [
    {
     "name": "stdout",
     "output_type": "stream",
     "text": [
      "XGB Result, counts of label '1': 415\n",
      "XGB Result, counts of label '0': 7352\n"
     ]
    }
   ],
   "source": [
    "print(\"XGB Result, counts of label '1': {}\".format(sum(XGB_Result == 1)))\n",
    "print(\"XGB Result, counts of label '0': {}\".format(sum(XGB_Result == 0)))"
   ]
  },
  {
   "cell_type": "code",
   "execution_count": 104,
   "id": "442fd07c",
   "metadata": {},
   "outputs": [],
   "source": [
    "XGB_result1 = pd.DataFrame(data = XGB_Result, columns = ['predicted'])\n",
    "XGB_result1.to_excel(r'C:\\Users\\hp\\Desktop\\EXL Case study\\results\\XGB_results.xlsx')"
   ]
  },
  {
   "cell_type": "code",
   "execution_count": 105,
   "id": "238c2f34",
   "metadata": {},
   "outputs": [],
   "source": [
    "test.to_excel(r'C:\\Users\\hp\\Desktop\\EXL Case study\\results\\test.xlsx')"
   ]
  },
  {
   "cell_type": "markdown",
   "id": "ae4d4862",
   "metadata": {},
   "source": [
    "### Logistic Description"
   ]
  },
  {
   "cell_type": "markdown",
   "id": "349919f9",
   "metadata": {},
   "source": [
    "### The customer Ids were found using the models above starting with the one having the highest accuracy i.e. <br>\n",
    "1. Random Forest Classifier with an accuracy score of 0.933 which gave 364 customer ids.\n",
    "2. XGBoost with an accuracy score of 0.896 which gave 415 customer ids.\n",
    "3. Logistic Regression with an accuracy score of 0.848 which gave 1378 customer ids out of which the rest of the customer ids were chosen based on some filters for these values.\n",
    "   1. personal_loan as no\n",
    "   2. housing_loan as no\n",
    "   3. balance > 500\n",
    "   4. default as no\n",
    "   5. num_contacts_in_campaign as 1, 2, 3, 4\n",
    "   6. education as primary, secondary and tertiary\n",
    "   7. job_type as every category except student, unknown, unemployed\n",
    "   8. customer_age > 25 and <= 60\n",
    "   9. prev_campaign_outcome as unknown<br> \n",
    "\n",
    "These filters provided the final values of customer ids and all of these together made up the final 1000 customer ids as the solution to the problem statement."
   ]
  }
 ],
 "metadata": {
  "kernelspec": {
   "display_name": "Python 3 (ipykernel)",
   "language": "python",
   "name": "python3"
  },
  "language_info": {
   "codemirror_mode": {
    "name": "ipython",
    "version": 3
   },
   "file_extension": ".py",
   "mimetype": "text/x-python",
   "name": "python",
   "nbconvert_exporter": "python",
   "pygments_lexer": "ipython3",
   "version": "3.9.7"
  }
 },
 "nbformat": 4,
 "nbformat_minor": 5
}
